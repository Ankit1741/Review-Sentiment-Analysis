{
 "cells": [
  {
   "cell_type": "code",
   "execution_count": 1,
   "metadata": {
    "id": "nTvz7alMdCfr"
   },
   "outputs": [],
   "source": [
    "import pickle\n",
    "import re\n",
    "import numpy as np\n",
    "import pandas as pd\n",
    "import matplotlib.pyplot as plt\n",
    "import seaborn as sns\n",
    "from sklearn.metrics import roc_curve, auc, confusion_matrix, f1_score\n",
    "from sklearn.model_selection import GridSearchCV\n",
    "from sklearn.ensemble import StackingClassifier"
   ]
  },
  {
   "cell_type": "code",
   "execution_count": 15,
   "metadata": {},
   "outputs": [
    {
     "name": "stdout",
     "output_type": "stream",
     "text": [
      "Collecting imblearn\n",
      "  Downloading imblearn-0.0-py2.py3-none-any.whl (1.9 kB)\n",
      "Collecting imbalanced-learn\n",
      "  Downloading imbalanced_learn-0.7.0-py3-none-any.whl (167 kB)\n",
      "Requirement already satisfied: scikit-learn>=0.23 in c:\\users\\ankit\\anaconda3\\lib\\site-packages (from imbalanced-learn->imblearn) (0.23.1)\n",
      "Requirement already satisfied: numpy>=1.13.3 in c:\\users\\ankit\\anaconda3\\lib\\site-packages (from imbalanced-learn->imblearn) (1.18.5)\n",
      "Requirement already satisfied: scipy>=0.19.1 in c:\\users\\ankit\\anaconda3\\lib\\site-packages (from imbalanced-learn->imblearn) (1.5.0)\n",
      "Requirement already satisfied: joblib>=0.11 in c:\\users\\ankit\\anaconda3\\lib\\site-packages (from imbalanced-learn->imblearn) (0.16.0)\n",
      "Requirement already satisfied: threadpoolctl>=2.0.0 in c:\\users\\ankit\\anaconda3\\lib\\site-packages (from scikit-learn>=0.23->imbalanced-learn->imblearn) (2.1.0)\n",
      "Installing collected packages: imbalanced-learn, imblearn\n",
      "Successfully installed imbalanced-learn-0.7.0 imblearn-0.0\n"
     ]
    }
   ],
   "source": [
    "!pip install imblearn"
   ]
  },
  {
   "cell_type": "markdown",
   "metadata": {
    "id": "UXgFhxEmlczD"
   },
   "source": [
    "# Data Loading and Preprocessing\n"
   ]
  },
  {
   "cell_type": "code",
   "execution_count": 2,
   "metadata": {
    "colab": {
     "base_uri": "https://localhost:8080/"
    },
    "id": "E1UIJk1ZeAXO",
    "outputId": "dac1a963-5f65-4184-a151-89f42736088a"
   },
   "outputs": [
    {
     "name": "stdout",
     "output_type": "stream",
     "text": [
      "<class 'pandas.core.frame.DataFrame'>\n",
      "RangeIndex: 568454 entries, 0 to 568453\n",
      "Data columns (total 10 columns):\n",
      " #   Column                  Non-Null Count   Dtype \n",
      "---  ------                  --------------   ----- \n",
      " 0   Id                      568454 non-null  int64 \n",
      " 1   ProductId               568454 non-null  object\n",
      " 2   UserId                  568454 non-null  object\n",
      " 3   ProfileName             568438 non-null  object\n",
      " 4   HelpfulnessNumerator    568454 non-null  int64 \n",
      " 5   HelpfulnessDenominator  568454 non-null  int64 \n",
      " 6   Score                   568454 non-null  int64 \n",
      " 7   Time                    568454 non-null  int64 \n",
      " 8   Summary                 568427 non-null  object\n",
      " 9   Text                    568454 non-null  object\n",
      "dtypes: int64(5), object(5)\n",
      "memory usage: 43.4+ MB\n"
     ]
    }
   ],
   "source": [
    "#Read the dataset - Amazon fine food reviews\n",
    "data = pd.read_csv(\"Reviews.csv\")\n",
    "#check the info of the dataset\n",
    "data.info()"
   ]
  },
  {
   "cell_type": "code",
   "execution_count": 3,
   "metadata": {
    "colab": {
     "base_uri": "https://localhost:8080/",
     "height": 279
    },
    "id": "cxzA6rr61CdZ",
    "outputId": "4e042a89-afe3-460a-f8d7-192ff0700a6a"
   },
   "outputs": [
    {
     "data": {
      "text/html": [
       "<div>\n",
       "<style scoped>\n",
       "    .dataframe tbody tr th:only-of-type {\n",
       "        vertical-align: middle;\n",
       "    }\n",
       "\n",
       "    .dataframe tbody tr th {\n",
       "        vertical-align: top;\n",
       "    }\n",
       "\n",
       "    .dataframe thead th {\n",
       "        text-align: right;\n",
       "    }\n",
       "</style>\n",
       "<table border=\"1\" class=\"dataframe\">\n",
       "  <thead>\n",
       "    <tr style=\"text-align: right;\">\n",
       "      <th></th>\n",
       "      <th>Id</th>\n",
       "      <th>ProductId</th>\n",
       "      <th>UserId</th>\n",
       "      <th>ProfileName</th>\n",
       "      <th>HelpfulnessNumerator</th>\n",
       "      <th>HelpfulnessDenominator</th>\n",
       "      <th>Score</th>\n",
       "      <th>Time</th>\n",
       "      <th>Summary</th>\n",
       "      <th>Text</th>\n",
       "    </tr>\n",
       "  </thead>\n",
       "  <tbody>\n",
       "    <tr>\n",
       "      <th>0</th>\n",
       "      <td>1</td>\n",
       "      <td>B001E4KFG0</td>\n",
       "      <td>A3SGXH7AUHU8GW</td>\n",
       "      <td>delmartian</td>\n",
       "      <td>1</td>\n",
       "      <td>1</td>\n",
       "      <td>5</td>\n",
       "      <td>1303862400</td>\n",
       "      <td>Good Quality Dog Food</td>\n",
       "      <td>I have bought several of the Vitality canned d...</td>\n",
       "    </tr>\n",
       "    <tr>\n",
       "      <th>1</th>\n",
       "      <td>2</td>\n",
       "      <td>B00813GRG4</td>\n",
       "      <td>A1D87F6ZCVE5NK</td>\n",
       "      <td>dll pa</td>\n",
       "      <td>0</td>\n",
       "      <td>0</td>\n",
       "      <td>1</td>\n",
       "      <td>1346976000</td>\n",
       "      <td>Not as Advertised</td>\n",
       "      <td>Product arrived labeled as Jumbo Salted Peanut...</td>\n",
       "    </tr>\n",
       "    <tr>\n",
       "      <th>2</th>\n",
       "      <td>3</td>\n",
       "      <td>B000LQOCH0</td>\n",
       "      <td>ABXLMWJIXXAIN</td>\n",
       "      <td>Natalia Corres \"Natalia Corres\"</td>\n",
       "      <td>1</td>\n",
       "      <td>1</td>\n",
       "      <td>4</td>\n",
       "      <td>1219017600</td>\n",
       "      <td>\"Delight\" says it all</td>\n",
       "      <td>This is a confection that has been around a fe...</td>\n",
       "    </tr>\n",
       "    <tr>\n",
       "      <th>3</th>\n",
       "      <td>4</td>\n",
       "      <td>B000UA0QIQ</td>\n",
       "      <td>A395BORC6FGVXV</td>\n",
       "      <td>Karl</td>\n",
       "      <td>3</td>\n",
       "      <td>3</td>\n",
       "      <td>2</td>\n",
       "      <td>1307923200</td>\n",
       "      <td>Cough Medicine</td>\n",
       "      <td>If you are looking for the secret ingredient i...</td>\n",
       "    </tr>\n",
       "    <tr>\n",
       "      <th>4</th>\n",
       "      <td>5</td>\n",
       "      <td>B006K2ZZ7K</td>\n",
       "      <td>A1UQRSCLF8GW1T</td>\n",
       "      <td>Michael D. Bigham \"M. Wassir\"</td>\n",
       "      <td>0</td>\n",
       "      <td>0</td>\n",
       "      <td>5</td>\n",
       "      <td>1350777600</td>\n",
       "      <td>Great taffy</td>\n",
       "      <td>Great taffy at a great price.  There was a wid...</td>\n",
       "    </tr>\n",
       "  </tbody>\n",
       "</table>\n",
       "</div>"
      ],
      "text/plain": [
       "   Id   ProductId          UserId                      ProfileName  \\\n",
       "0   1  B001E4KFG0  A3SGXH7AUHU8GW                       delmartian   \n",
       "1   2  B00813GRG4  A1D87F6ZCVE5NK                           dll pa   \n",
       "2   3  B000LQOCH0   ABXLMWJIXXAIN  Natalia Corres \"Natalia Corres\"   \n",
       "3   4  B000UA0QIQ  A395BORC6FGVXV                             Karl   \n",
       "4   5  B006K2ZZ7K  A1UQRSCLF8GW1T    Michael D. Bigham \"M. Wassir\"   \n",
       "\n",
       "   HelpfulnessNumerator  HelpfulnessDenominator  Score        Time  \\\n",
       "0                     1                       1      5  1303862400   \n",
       "1                     0                       0      1  1346976000   \n",
       "2                     1                       1      4  1219017600   \n",
       "3                     3                       3      2  1307923200   \n",
       "4                     0                       0      5  1350777600   \n",
       "\n",
       "                 Summary                                               Text  \n",
       "0  Good Quality Dog Food  I have bought several of the Vitality canned d...  \n",
       "1      Not as Advertised  Product arrived labeled as Jumbo Salted Peanut...  \n",
       "2  \"Delight\" says it all  This is a confection that has been around a fe...  \n",
       "3         Cough Medicine  If you are looking for the secret ingredient i...  \n",
       "4            Great taffy  Great taffy at a great price.  There was a wid...  "
      ]
     },
     "execution_count": 3,
     "metadata": {},
     "output_type": "execute_result"
    }
   ],
   "source": [
    "data.head()"
   ]
  },
  {
   "cell_type": "code",
   "execution_count": 4,
   "metadata": {
    "colab": {
     "base_uri": "https://localhost:8080/",
     "height": 195
    },
    "id": "8gpPY_z6eAU2",
    "outputId": "16382fa3-3e54-46ea-a1a6-db63b2582049"
   },
   "outputs": [
    {
     "data": {
      "text/html": [
       "<div>\n",
       "<style scoped>\n",
       "    .dataframe tbody tr th:only-of-type {\n",
       "        vertical-align: middle;\n",
       "    }\n",
       "\n",
       "    .dataframe tbody tr th {\n",
       "        vertical-align: top;\n",
       "    }\n",
       "\n",
       "    .dataframe thead th {\n",
       "        text-align: right;\n",
       "    }\n",
       "</style>\n",
       "<table border=\"1\" class=\"dataframe\">\n",
       "  <thead>\n",
       "    <tr style=\"text-align: right;\">\n",
       "      <th></th>\n",
       "      <th>Score</th>\n",
       "      <th>Text</th>\n",
       "    </tr>\n",
       "  </thead>\n",
       "  <tbody>\n",
       "    <tr>\n",
       "      <th>0</th>\n",
       "      <td>5</td>\n",
       "      <td>I have bought several of the Vitality canned d...</td>\n",
       "    </tr>\n",
       "    <tr>\n",
       "      <th>1</th>\n",
       "      <td>1</td>\n",
       "      <td>Product arrived labeled as Jumbo Salted Peanut...</td>\n",
       "    </tr>\n",
       "    <tr>\n",
       "      <th>2</th>\n",
       "      <td>4</td>\n",
       "      <td>This is a confection that has been around a fe...</td>\n",
       "    </tr>\n",
       "    <tr>\n",
       "      <th>3</th>\n",
       "      <td>2</td>\n",
       "      <td>If you are looking for the secret ingredient i...</td>\n",
       "    </tr>\n",
       "    <tr>\n",
       "      <th>4</th>\n",
       "      <td>5</td>\n",
       "      <td>Great taffy at a great price.  There was a wid...</td>\n",
       "    </tr>\n",
       "  </tbody>\n",
       "</table>\n",
       "</div>"
      ],
      "text/plain": [
       "   Score                                               Text\n",
       "0      5  I have bought several of the Vitality canned d...\n",
       "1      1  Product arrived labeled as Jumbo Salted Peanut...\n",
       "2      4  This is a confection that has been around a fe...\n",
       "3      2  If you are looking for the secret ingredient i...\n",
       "4      5  Great taffy at a great price.  There was a wid..."
      ]
     },
     "execution_count": 4,
     "metadata": {},
     "output_type": "execute_result"
    }
   ],
   "source": [
    "data = data.drop(['Id', 'Summary', 'ProfileName', 'HelpfulnessDenominator', 'HelpfulnessNumerator', 'Time', 'UserId', 'ProductId'], axis=1)\n",
    "data.head()"
   ]
  },
  {
   "cell_type": "code",
   "execution_count": 5,
   "metadata": {
    "colab": {
     "base_uri": "https://localhost:8080/"
    },
    "id": "XhLjqWNgeAST",
    "outputId": "738bcc5d-52d5-4447-f323-110584fb5848"
   },
   "outputs": [
    {
     "data": {
      "text/plain": [
       "Score    False\n",
       "Text     False\n",
       "dtype: bool"
      ]
     },
     "execution_count": 5,
     "metadata": {},
     "output_type": "execute_result"
    }
   ],
   "source": [
    "data.isna().any()"
   ]
  },
  {
   "cell_type": "code",
   "execution_count": 6,
   "metadata": {
    "id": "5AFjQwZ6eAPu"
   },
   "outputs": [],
   "source": [
    "score = data['Score'].values \n",
    "score1 = []\n",
    "for a in score:\n",
    "    if a>3:\n",
    "        a=1\n",
    "    elif a<3:\n",
    "        a=0\n",
    "    else:\n",
    "        a=float('NaN')\n",
    "    score1.append(a)\n",
    "data['Score'] = score1\n",
    "\n",
    "data = data.dropna()"
   ]
  },
  {
   "cell_type": "code",
   "execution_count": 7,
   "metadata": {
    "colab": {
     "base_uri": "https://localhost:8080/",
     "height": 195
    },
    "id": "xc0V8LUgeANC",
    "outputId": "1baee319-dfe6-489d-facb-fa6745860102"
   },
   "outputs": [
    {
     "data": {
      "text/html": [
       "<div>\n",
       "<style scoped>\n",
       "    .dataframe tbody tr th:only-of-type {\n",
       "        vertical-align: middle;\n",
       "    }\n",
       "\n",
       "    .dataframe tbody tr th {\n",
       "        vertical-align: top;\n",
       "    }\n",
       "\n",
       "    .dataframe thead th {\n",
       "        text-align: right;\n",
       "    }\n",
       "</style>\n",
       "<table border=\"1\" class=\"dataframe\">\n",
       "  <thead>\n",
       "    <tr style=\"text-align: right;\">\n",
       "      <th></th>\n",
       "      <th>Score</th>\n",
       "      <th>Text</th>\n",
       "    </tr>\n",
       "  </thead>\n",
       "  <tbody>\n",
       "    <tr>\n",
       "      <th>0</th>\n",
       "      <td>1.0</td>\n",
       "      <td>I have bought several of the Vitality canned d...</td>\n",
       "    </tr>\n",
       "    <tr>\n",
       "      <th>1</th>\n",
       "      <td>0.0</td>\n",
       "      <td>Product arrived labeled as Jumbo Salted Peanut...</td>\n",
       "    </tr>\n",
       "    <tr>\n",
       "      <th>2</th>\n",
       "      <td>1.0</td>\n",
       "      <td>This is a confection that has been around a fe...</td>\n",
       "    </tr>\n",
       "    <tr>\n",
       "      <th>3</th>\n",
       "      <td>0.0</td>\n",
       "      <td>If you are looking for the secret ingredient i...</td>\n",
       "    </tr>\n",
       "    <tr>\n",
       "      <th>4</th>\n",
       "      <td>1.0</td>\n",
       "      <td>Great taffy at a great price.  There was a wid...</td>\n",
       "    </tr>\n",
       "  </tbody>\n",
       "</table>\n",
       "</div>"
      ],
      "text/plain": [
       "   Score                                               Text\n",
       "0    1.0  I have bought several of the Vitality canned d...\n",
       "1    0.0  Product arrived labeled as Jumbo Salted Peanut...\n",
       "2    1.0  This is a confection that has been around a fe...\n",
       "3    0.0  If you are looking for the secret ingredient i...\n",
       "4    1.0  Great taffy at a great price.  There was a wid..."
      ]
     },
     "execution_count": 7,
     "metadata": {},
     "output_type": "execute_result"
    }
   ],
   "source": [
    "data.head()"
   ]
  },
  {
   "cell_type": "code",
   "execution_count": 8,
   "metadata": {
    "colab": {
     "base_uri": "https://localhost:8080/",
     "height": 195
    },
    "id": "mGlELpc-eAKc",
    "outputId": "c3a7690f-7f99-4159-dcec-580fa03f9624"
   },
   "outputs": [
    {
     "data": {
      "text/html": [
       "<div>\n",
       "<style scoped>\n",
       "    .dataframe tbody tr th:only-of-type {\n",
       "        vertical-align: middle;\n",
       "    }\n",
       "\n",
       "    .dataframe tbody tr th {\n",
       "        vertical-align: top;\n",
       "    }\n",
       "\n",
       "    .dataframe thead th {\n",
       "        text-align: right;\n",
       "    }\n",
       "</style>\n",
       "<table border=\"1\" class=\"dataframe\">\n",
       "  <thead>\n",
       "    <tr style=\"text-align: right;\">\n",
       "      <th></th>\n",
       "      <th>Score</th>\n",
       "      <th>Text</th>\n",
       "    </tr>\n",
       "  </thead>\n",
       "  <tbody>\n",
       "    <tr>\n",
       "      <th>0</th>\n",
       "      <td>1.0</td>\n",
       "      <td>i have bought several of the vitality canned d...</td>\n",
       "    </tr>\n",
       "    <tr>\n",
       "      <th>1</th>\n",
       "      <td>0.0</td>\n",
       "      <td>product arrived labeled as jumbo salted peanut...</td>\n",
       "    </tr>\n",
       "    <tr>\n",
       "      <th>2</th>\n",
       "      <td>1.0</td>\n",
       "      <td>this is a confection that has been around a fe...</td>\n",
       "    </tr>\n",
       "    <tr>\n",
       "      <th>3</th>\n",
       "      <td>0.0</td>\n",
       "      <td>if you are looking for the secret ingredient i...</td>\n",
       "    </tr>\n",
       "    <tr>\n",
       "      <th>4</th>\n",
       "      <td>1.0</td>\n",
       "      <td>great taffy at a great price.  there was a wid...</td>\n",
       "    </tr>\n",
       "  </tbody>\n",
       "</table>\n",
       "</div>"
      ],
      "text/plain": [
       "   Score                                               Text\n",
       "0    1.0  i have bought several of the vitality canned d...\n",
       "1    0.0  product arrived labeled as jumbo salted peanut...\n",
       "2    1.0  this is a confection that has been around a fe...\n",
       "3    0.0  if you are looking for the secret ingredient i...\n",
       "4    1.0  great taffy at a great price.  there was a wid..."
      ]
     },
     "execution_count": 8,
     "metadata": {},
     "output_type": "execute_result"
    }
   ],
   "source": [
    "def decontracted(phrase):\n",
    "    # specific\n",
    "    phrase = re.sub(r\"won't\", \"will not\", phrase)\n",
    "    phrase = re.sub(r\"can\\'t\", \"can not\", phrase)\n",
    "\n",
    "    # general\n",
    "    phrase = re.sub(r\"n\\'t\", \" not\", phrase)\n",
    "    phrase = re.sub(r\"\\'re\", \" are\", phrase)\n",
    "    phrase = re.sub(r\"\\'s\", \" is\", phrase)\n",
    "    phrase = re.sub(r\"\\'d\", \" would\", phrase)\n",
    "    phrase = re.sub(r\"\\'ll\", \" will\", phrase)\n",
    "    phrase = re.sub(r\"\\'t\", \" not\", phrase)\n",
    "    phrase = re.sub(r\"\\'ve\", \" have\", phrase)\n",
    "    phrase = re.sub(r\"\\'m\", \" am\", phrase)\n",
    "    return phrase\n",
    "\n",
    "def text_preprocess(text):\n",
    "    text = text.lower() #converts to lower alphabets \n",
    "    #removing HTML tags\n",
    "    cleanr = re.compile('<.*?>')\n",
    "    text = re.sub(cleanr, '', text)\n",
    "    \n",
    "    #decontract words ex: 'haven't' -> 'have not' etc\n",
    "    text = decontracted(text)\n",
    "    \n",
    "    #removing digits\n",
    "    for word in text:\n",
    "        if word.isdigit():\n",
    "            text = text.replace(word, ' ')\n",
    "    \n",
    "    #removing words of length higher or equal to 15\n",
    "    \n",
    "    text = re.sub(r'\\b\\w{15,}', '', text)\n",
    "    return text\n",
    "\n",
    "text = data['Text'].values\n",
    "\n",
    "for i in range(len(text)):\n",
    "    text[i] = text_preprocess(text[i])\n",
    "    \n",
    "data['Text'] = text\n",
    "\n",
    "data.head()"
   ]
  },
  {
   "cell_type": "code",
   "execution_count": 9,
   "metadata": {
    "id": "6q81qGYrd_9J"
   },
   "outputs": [],
   "source": [
    "y = data['Score'].values\n",
    "x = data.drop(['Score'], axis=1)"
   ]
  },
  {
   "cell_type": "code",
   "execution_count": 10,
   "metadata": {
    "colab": {
     "base_uri": "https://localhost:8080/",
     "height": 281
    },
    "id": "RwDupOZcfFfc",
    "outputId": "0c5b6058-81ce-4ffd-a55e-efe09c303fea"
   },
   "outputs": [
    {
     "data": {
      "image/png": "[encoded data removed]",
      "text/plain": [
       "<Figure size 432x288 with 1 Axes>"
      ]
     },
     "metadata": {
      "needs_background": "light"
     },
     "output_type": "display_data"
    }
   ],
   "source": [
    "unique, counts = np.unique(y, return_counts=True)\n",
    "sns.barplot(x=unique, y=counts)\n",
    "plt.title('BAR-PLOT OF Y_TRAIN ')\n",
    "plt.show()"
   ]
  },
  {
   "cell_type": "code",
   "execution_count": 11,
   "metadata": {
    "id": "jgMICsm1fKEG"
   },
   "outputs": [],
   "source": [
    "#train_cv split:\n",
    "\n",
    "from sklearn.model_selection import train_test_split\n",
    "\n",
    "x_train, x_cv, y_train, y_cv = train_test_split(x, y, test_size=0.33, stratify=y)"
   ]
  },
  {
   "cell_type": "code",
   "execution_count": 12,
   "metadata": {
    "colab": {
     "base_uri": "https://localhost:8080/"
    },
    "id": "InGckm6YfLkO",
    "outputId": "511f2356-70a1-42ac-a85f-60d2fb279e38"
   },
   "outputs": [
    {
     "name": "stdout",
     "output_type": "stream",
     "text": [
      "(352295, 1) (352295,)\n",
      "(173519, 1) (173519,)\n"
     ]
    }
   ],
   "source": [
    "print(x_train.shape, y_train.shape)\n",
    "print(x_cv.shape, y_cv.shape)\n"
   ]
  },
  {
   "cell_type": "code",
   "execution_count": 13,
   "metadata": {
    "colab": {
     "base_uri": "https://localhost:8080/"
    },
    "id": "GyBRzOKEfMLq",
    "outputId": "17c2ff7e-b1cc-49fc-f7fc-9ac9bc1e1388"
   },
   "outputs": [
    {
     "name": "stdout",
     "output_type": "stream",
     "text": [
      "(352295, 10000)\n",
      "(173519, 10000)\n"
     ]
    }
   ],
   "source": [
    "from sklearn.feature_extraction.text import TfidfVectorizer\n",
    "#tfidf vectorizer\n",
    "vect = TfidfVectorizer(min_df=15, max_features = 10000)\n",
    "x_tfidf_tr = vect.fit_transform(x_train['Text'].values)\n",
    "x_tfidf_cv = vect.transform(x_cv['Text'].values)\n",
    "\n",
    "\n",
    "print(x_tfidf_tr.shape)\n",
    "print(x_tfidf_cv.shape)"
   ]
  },
  {
   "cell_type": "code",
   "execution_count": 45,
   "metadata": {},
   "outputs": [],
   "source": [
    "pickle.dump(vect, open('vectorizer.pkl','wb'))"
   ]
  },
  {
   "cell_type": "code",
   "execution_count": 16,
   "metadata": {
    "colab": {
     "base_uri": "https://localhost:8080/"
    },
    "id": "y6hntUSl6F3x",
    "outputId": "ddf13001-ec85-4347-af39-698dc8899043"
   },
   "outputs": [],
   "source": [
    "#Up Sampling the data since there are very few cases for class 0\n",
    "from imblearn.over_sampling import SMOTE \n",
    "\n",
    "sm = SMOTE(random_state = 7) \n",
    "x_os_tr, y_train = sm.fit_sample(x_tfidf_tr, y_train) \n",
    "\n"
   ]
  },
  {
   "cell_type": "code",
   "execution_count": 17,
   "metadata": {
    "colab": {
     "base_uri": "https://localhost:8080/"
    },
    "id": "EID30RzM7IGV",
    "outputId": "e4a0e463-ddc8-4c32-c6de-21aec9a7212e"
   },
   "outputs": [
    {
     "name": "stdout",
     "output_type": "stream",
     "text": [
      "(594660, 10000) (594660,)\n"
     ]
    }
   ],
   "source": [
    "print(x_os_tr.shape,y_train.shape)"
   ]
  },
  {
   "cell_type": "code",
   "execution_count": 18,
   "metadata": {
    "colab": {
     "base_uri": "https://localhost:8080/",
     "height": 281
    },
    "id": "-tuE2yli-6cp",
    "outputId": "b3a6ce3b-227e-4e4f-d186-7ac211a2e7c2"
   },
   "outputs": [
    {
     "data": {
      "image/png": "[encoded data removed]",
      "text/plain": [
       "<Figure size 432x288 with 1 Axes>"
      ]
     },
     "metadata": {
      "needs_background": "light"
     },
     "output_type": "display_data"
    }
   ],
   "source": [
    "unique, counts = np.unique(y_train, return_counts=True)\n",
    "sns.barplot(x=unique, y=counts)\n",
    "plt.title('BAR-PLOT OF Y_TRAIN ')\n",
    "plt.show()"
   ]
  },
  {
   "cell_type": "markdown",
   "metadata": {},
   "source": [
    "# Logistic Regression"
   ]
  },
  {
   "cell_type": "code",
   "execution_count": 19,
   "metadata": {
    "colab": {
     "base_uri": "https://localhost:8080/",
     "height": 346
    },
    "id": "uFbKwgvTfMJD",
    "outputId": "b36fe489-f679-4d93-c562-d3f6f179b56d"
   },
   "outputs": [
    {
     "data": {
      "text/html": [
       "<div>\n",
       "<style scoped>\n",
       "    .dataframe tbody tr th:only-of-type {\n",
       "        vertical-align: middle;\n",
       "    }\n",
       "\n",
       "    .dataframe tbody tr th {\n",
       "        vertical-align: top;\n",
       "    }\n",
       "\n",
       "    .dataframe thead th {\n",
       "        text-align: right;\n",
       "    }\n",
       "</style>\n",
       "<table border=\"1\" class=\"dataframe\">\n",
       "  <thead>\n",
       "    <tr style=\"text-align: right;\">\n",
       "      <th></th>\n",
       "      <th>mean_fit_time</th>\n",
       "      <th>std_fit_time</th>\n",
       "      <th>mean_score_time</th>\n",
       "      <th>std_score_time</th>\n",
       "      <th>param_alpha</th>\n",
       "      <th>params</th>\n",
       "      <th>split0_test_score</th>\n",
       "      <th>split1_test_score</th>\n",
       "      <th>split2_test_score</th>\n",
       "      <th>split3_test_score</th>\n",
       "      <th>...</th>\n",
       "      <th>mean_test_score</th>\n",
       "      <th>std_test_score</th>\n",
       "      <th>rank_test_score</th>\n",
       "      <th>split0_train_score</th>\n",
       "      <th>split1_train_score</th>\n",
       "      <th>split2_train_score</th>\n",
       "      <th>split3_train_score</th>\n",
       "      <th>split4_train_score</th>\n",
       "      <th>mean_train_score</th>\n",
       "      <th>std_train_score</th>\n",
       "    </tr>\n",
       "  </thead>\n",
       "  <tbody>\n",
       "    <tr>\n",
       "      <th>0</th>\n",
       "      <td>76.885266</td>\n",
       "      <td>28.523683</td>\n",
       "      <td>1.985382</td>\n",
       "      <td>2.406527</td>\n",
       "      <td>0.0001</td>\n",
       "      <td>{'alpha': 0.0001}</td>\n",
       "      <td>0.948944</td>\n",
       "      <td>0.959911</td>\n",
       "      <td>0.959475</td>\n",
       "      <td>0.960252</td>\n",
       "      <td>...</td>\n",
       "      <td>0.957787</td>\n",
       "      <td>0.004432</td>\n",
       "      <td>1</td>\n",
       "      <td>0.960173</td>\n",
       "      <td>0.958066</td>\n",
       "      <td>0.958153</td>\n",
       "      <td>0.958040</td>\n",
       "      <td>0.957944</td>\n",
       "      <td>0.958475</td>\n",
       "      <td>0.000851</td>\n",
       "    </tr>\n",
       "    <tr>\n",
       "      <th>1</th>\n",
       "      <td>65.533040</td>\n",
       "      <td>46.118724</td>\n",
       "      <td>2.866267</td>\n",
       "      <td>0.721241</td>\n",
       "      <td>0.001</td>\n",
       "      <td>{'alpha': 0.001}</td>\n",
       "      <td>0.912913</td>\n",
       "      <td>0.927894</td>\n",
       "      <td>0.927639</td>\n",
       "      <td>0.928503</td>\n",
       "      <td>...</td>\n",
       "      <td>0.925029</td>\n",
       "      <td>0.006065</td>\n",
       "      <td>2</td>\n",
       "      <td>0.927150</td>\n",
       "      <td>0.924802</td>\n",
       "      <td>0.925276</td>\n",
       "      <td>0.925259</td>\n",
       "      <td>0.924752</td>\n",
       "      <td>0.925448</td>\n",
       "      <td>0.000879</td>\n",
       "    </tr>\n",
       "    <tr>\n",
       "      <th>2</th>\n",
       "      <td>14.692428</td>\n",
       "      <td>4.695624</td>\n",
       "      <td>2.633118</td>\n",
       "      <td>0.493610</td>\n",
       "      <td>0.01</td>\n",
       "      <td>{'alpha': 0.01}</td>\n",
       "      <td>0.884308</td>\n",
       "      <td>0.902298</td>\n",
       "      <td>0.902663</td>\n",
       "      <td>0.903459</td>\n",
       "      <td>...</td>\n",
       "      <td>0.898925</td>\n",
       "      <td>0.007327</td>\n",
       "      <td>3</td>\n",
       "      <td>0.900680</td>\n",
       "      <td>0.898728</td>\n",
       "      <td>0.899694</td>\n",
       "      <td>0.899772</td>\n",
       "      <td>0.897537</td>\n",
       "      <td>0.899282</td>\n",
       "      <td>0.001069</td>\n",
       "    </tr>\n",
       "    <tr>\n",
       "      <th>3</th>\n",
       "      <td>24.040359</td>\n",
       "      <td>1.542601</td>\n",
       "      <td>1.523982</td>\n",
       "      <td>0.993373</td>\n",
       "      <td>1</td>\n",
       "      <td>{'alpha': 1}</td>\n",
       "      <td>0.871987</td>\n",
       "      <td>0.886988</td>\n",
       "      <td>0.894392</td>\n",
       "      <td>0.890827</td>\n",
       "      <td>...</td>\n",
       "      <td>0.886532</td>\n",
       "      <td>0.007691</td>\n",
       "      <td>4</td>\n",
       "      <td>0.889681</td>\n",
       "      <td>0.882990</td>\n",
       "      <td>0.891115</td>\n",
       "      <td>0.886677</td>\n",
       "      <td>0.883667</td>\n",
       "      <td>0.886826</td>\n",
       "      <td>0.003202</td>\n",
       "    </tr>\n",
       "    <tr>\n",
       "      <th>4</th>\n",
       "      <td>17.091057</td>\n",
       "      <td>1.007008</td>\n",
       "      <td>0.380297</td>\n",
       "      <td>0.182367</td>\n",
       "      <td>10</td>\n",
       "      <td>{'alpha': 10}</td>\n",
       "      <td>0.867046</td>\n",
       "      <td>0.889240</td>\n",
       "      <td>0.890751</td>\n",
       "      <td>0.891787</td>\n",
       "      <td>...</td>\n",
       "      <td>0.886169</td>\n",
       "      <td>0.009611</td>\n",
       "      <td>5</td>\n",
       "      <td>0.885426</td>\n",
       "      <td>0.885318</td>\n",
       "      <td>0.887255</td>\n",
       "      <td>0.887688</td>\n",
       "      <td>0.887338</td>\n",
       "      <td>0.886605</td>\n",
       "      <td>0.001018</td>\n",
       "    </tr>\n",
       "    <tr>\n",
       "      <th>5</th>\n",
       "      <td>12.718653</td>\n",
       "      <td>2.692408</td>\n",
       "      <td>0.194852</td>\n",
       "      <td>0.186057</td>\n",
       "      <td>100</td>\n",
       "      <td>{'alpha': 100}</td>\n",
       "      <td>0.868141</td>\n",
       "      <td>0.889892</td>\n",
       "      <td>0.890660</td>\n",
       "      <td>0.889918</td>\n",
       "      <td>...</td>\n",
       "      <td>0.885845</td>\n",
       "      <td>0.008858</td>\n",
       "      <td>6</td>\n",
       "      <td>0.886370</td>\n",
       "      <td>0.885992</td>\n",
       "      <td>0.887159</td>\n",
       "      <td>0.885726</td>\n",
       "      <td>0.885881</td>\n",
       "      <td>0.886226</td>\n",
       "      <td>0.000513</td>\n",
       "    </tr>\n",
       "  </tbody>\n",
       "</table>\n",
       "<p>6 rows × 21 columns</p>\n",
       "</div>"
      ],
      "text/plain": [
       "   mean_fit_time  std_fit_time  mean_score_time  std_score_time param_alpha  \\\n",
       "0      76.885266     28.523683         1.985382        2.406527      0.0001   \n",
       "1      65.533040     46.118724         2.866267        0.721241       0.001   \n",
       "2      14.692428      4.695624         2.633118        0.493610        0.01   \n",
       "3      24.040359      1.542601         1.523982        0.993373           1   \n",
       "4      17.091057      1.007008         0.380297        0.182367          10   \n",
       "5      12.718653      2.692408         0.194852        0.186057         100   \n",
       "\n",
       "              params  split0_test_score  split1_test_score  split2_test_score  \\\n",
       "0  {'alpha': 0.0001}           0.948944           0.959911           0.959475   \n",
       "1   {'alpha': 0.001}           0.912913           0.927894           0.927639   \n",
       "2    {'alpha': 0.01}           0.884308           0.902298           0.902663   \n",
       "3       {'alpha': 1}           0.871987           0.886988           0.894392   \n",
       "4      {'alpha': 10}           0.867046           0.889240           0.890751   \n",
       "5     {'alpha': 100}           0.868141           0.889892           0.890660   \n",
       "\n",
       "   split3_test_score  ...  mean_test_score  std_test_score  rank_test_score  \\\n",
       "0           0.960252  ...         0.957787        0.004432                1   \n",
       "1           0.928503  ...         0.925029        0.006065                2   \n",
       "2           0.903459  ...         0.898925        0.007327                3   \n",
       "3           0.890827  ...         0.886532        0.007691                4   \n",
       "4           0.891787  ...         0.886169        0.009611                5   \n",
       "5           0.889918  ...         0.885845        0.008858                6   \n",
       "\n",
       "   split0_train_score  split1_train_score  split2_train_score  \\\n",
       "0            0.960173            0.958066            0.958153   \n",
       "1            0.927150            0.924802            0.925276   \n",
       "2            0.900680            0.898728            0.899694   \n",
       "3            0.889681            0.882990            0.891115   \n",
       "4            0.885426            0.885318            0.887255   \n",
       "5            0.886370            0.885992            0.887159   \n",
       "\n",
       "   split3_train_score  split4_train_score  mean_train_score  std_train_score  \n",
       "0            0.958040            0.957944          0.958475         0.000851  \n",
       "1            0.925259            0.924752          0.925448         0.000879  \n",
       "2            0.899772            0.897537          0.899282         0.001069  \n",
       "3            0.886677            0.883667          0.886826         0.003202  \n",
       "4            0.887688            0.887338          0.886605         0.001018  \n",
       "5            0.885726            0.885881          0.886226         0.000513  \n",
       "\n",
       "[6 rows x 21 columns]"
      ]
     },
     "execution_count": 19,
     "metadata": {},
     "output_type": "execute_result"
    }
   ],
   "source": [
    "#using logistic regression classifier\n",
    "from sklearn.linear_model import SGDClassifier\n",
    "\n",
    "\n",
    "\n",
    "clf = SGDClassifier(loss='log')\n",
    "param = {'alpha' : [0.0001, 0.001, 0.01, 1, 10, 100]}\n",
    "tuner = GridSearchCV(clf, param, cv=5, scoring='roc_auc', return_train_score=True, n_jobs=-1)\n",
    "tuner.fit(x_os_tr, y_train)\n",
    "\n",
    "results = pd.DataFrame.from_dict(tuner.cv_results_)\n",
    "\n",
    "results = results.sort_values(['param_alpha'])\n",
    "results"
   ]
  },
  {
   "cell_type": "code",
   "execution_count": 20,
   "metadata": {
    "colab": {
     "base_uri": "https://localhost:8080/",
     "height": 279
    },
    "id": "x-BO9HCVfMmh",
    "outputId": "b7069121-c749-41e4-f0ad-f645a6b83a3a"
   },
   "outputs": [
    {
     "data": {
      "image/png": "[encoded data removed]",
      "text/plain": [
       "<Figure size 432x288 with 1 Axes>"
      ]
     },
     "metadata": {
      "needs_background": "light"
     },
     "output_type": "display_data"
    }
   ],
   "source": [
    "train_auc = results['mean_train_score']\n",
    "cv_auc = results['mean_test_score']\n",
    "alpha = results['param_alpha']\n",
    "\n",
    "plt.plot(alpha, train_auc, label=\"train_AUC\" )\n",
    "plt.plot(alpha, cv_auc, label='cv_AUC')\n",
    "plt.scatter(alpha, train_auc, label=\"train_AUC\")\n",
    "plt.scatter(alpha, cv_auc, label='cv_AUC')\n",
    "\n",
    "plt.legend()\n",
    "plt.xlabel('Hyper-parameter')\n",
    "plt.ylabel('AUC Scores')\n",
    "plt.show()"
   ]
  },
  {
   "cell_type": "code",
   "execution_count": 21,
   "metadata": {
    "colab": {
     "base_uri": "https://localhost:8080/",
     "height": 279
    },
    "id": "AFh_wiXWfMsO",
    "outputId": "2a40a552-4941-4146-f7d2-fa5388dbffd2"
   },
   "outputs": [
    {
     "data": {
      "image/png": "[encoded data removed]",
      "text/plain": [
       "<Figure size 432x288 with 1 Axes>"
      ]
     },
     "metadata": {
      "needs_background": "light"
     },
     "output_type": "display_data"
    }
   ],
   "source": [
    "plt.plot(alpha[:2], train_auc[:2], label=\"train_AUC\" )\n",
    "plt.plot(alpha[:2], cv_auc[:2], label='cv_AUC')\n",
    "\n",
    "plt.legend()\n",
    "plt.xlabel('Hyper-parameter')\n",
    "plt.ylabel('AUC Scores')\n",
    "plt.show()"
   ]
  },
  {
   "cell_type": "code",
   "execution_count": 22,
   "metadata": {
    "colab": {
     "base_uri": "https://localhost:8080/",
     "height": 295
    },
    "id": "NpOHmZYqfMpP",
    "outputId": "46ba5bf6-58cf-45e4-fc76-7567b83f0162"
   },
   "outputs": [
    {
     "data": {
      "image/png": "[encoded data removed]",
      "text/plain": [
       "<Figure size 432x288 with 1 Axes>"
      ]
     },
     "metadata": {
      "needs_background": "light"
     },
     "output_type": "display_data"
    }
   ],
   "source": [
    "#Training Logistic Regression model with alpha=0.0001\n",
    "\n",
    "clf = SGDClassifier(loss='log', alpha=0.0001)\n",
    "clf.fit(x_os_tr, y_train)\n",
    "\n",
    "train_pred = clf.predict_proba(x_os_tr)[:,1]\n",
    "test_pred = clf.predict_proba(x_tfidf_cv)[:,1]\n",
    "\n",
    "tr_fpr, tr_tpr, tr_threshold = roc_curve(y_train, train_pred)\n",
    "te_fpr, te_tpr, te_threshold = roc_curve(y_cv, test_pred)\n",
    "\n",
    "plt.plot(tr_fpr, tr_tpr, label=\"train AUC=\"+str(auc(tr_fpr, tr_tpr)))\n",
    "plt.plot(te_fpr, te_tpr, label=\"test AUC=\"+str(auc(te_fpr, te_tpr)))\n",
    "\n",
    "plt.legend()\n",
    "plt.xlabel(\"FPR\")\n",
    "plt.ylabel(\"TPR\")\n",
    "plt.title(\"ROC curve for tfidf vectorization\") \n",
    "\n",
    "plt.grid()\n",
    "plt.show()\n"
   ]
  },
  {
   "cell_type": "code",
   "execution_count": 23,
   "metadata": {
    "colab": {
     "base_uri": "https://localhost:8080/",
     "height": 265
    },
    "id": "l1B57pt2XvMm",
    "outputId": "c588097d-e476-4803-f12b-e57a298d33fb"
   },
   "outputs": [
    {
     "data": {
      "image/png": "[encoded data removed]",
      "text/plain": [
       "<Figure size 432x288 with 2 Axes>"
      ]
     },
     "metadata": {
      "needs_background": "light"
     },
     "output_type": "display_data"
    }
   ],
   "source": [
    "#test data confusion matrix\n",
    "sns.heatmap(confusion_matrix(y_cv, clf.predict(x_tfidf_cv)), annot= True)\n",
    "plt.show()"
   ]
  },
  {
   "cell_type": "code",
   "execution_count": 24,
   "metadata": {
    "colab": {
     "base_uri": "https://localhost:8080/",
     "height": 265
    },
    "id": "UulY8kK9fMj9",
    "outputId": "f028d612-85bf-464a-bdd3-ecfa8a53ce01"
   },
   "outputs": [
    {
     "data": {
      "image/png": "[encoded data removed]",
      "text/plain": [
       "<Figure size 432x288 with 2 Axes>"
      ]
     },
     "metadata": {
      "needs_background": "light"
     },
     "output_type": "display_data"
    }
   ],
   "source": [
    "#train_data confusion matrix\n",
    "\n",
    "sns.heatmap(confusion_matrix(y_train, clf.predict(x_os_tr)), annot= True)\n",
    "plt.show()"
   ]
  },
  {
   "cell_type": "code",
   "execution_count": 25,
   "metadata": {
    "colab": {
     "base_uri": "https://localhost:8080/"
    },
    "id": "MZhPpc5rHCTx",
    "outputId": "318e0bea-fecd-4a2f-ea43-a5356a9c84c5"
   },
   "outputs": [
    {
     "name": "stdout",
     "output_type": "stream",
     "text": [
      "F1 score for test set 0.9253508809656932\n"
     ]
    }
   ],
   "source": [
    "#calculating F1 Score\n",
    "\n",
    "y_predte = clf.predict(x_tfidf_cv)\n",
    "f1_test = f1_score(y_cv, y_predte)\n",
    "\n",
    "\n",
    "\n",
    "print('F1 score for test set', f1_test)"
   ]
  },
  {
   "cell_type": "markdown",
   "metadata": {
    "id": "lgfYQbxfrmnK"
   },
   "source": [
    "# Decision Tree:"
   ]
  },
  {
   "cell_type": "code",
   "execution_count": null,
   "metadata": {
    "id": "iEOXNs5Fgf3J"
   },
   "outputs": [],
   "source": [
    "#Decision Tree \n",
    "\n",
    "from sklearn import tree\n",
    "from tqdm import tqdm\n",
    "\n",
    "\n",
    "clf = tree.DecisionTreeClassifier(class_weight='balanced')\n",
    "param = {'max_depth':  [1, 5, 10, 50], 'min_samples_split': [5, 10, 100, 500]}\n",
    "tuner = GridSearchCV(clf, param, cv=3, scoring='roc_auc', return_train_score=True)\n",
    "tuner.fit(x_os_tr, y_train)\n",
    "\n",
    "results = pd.DataFrame.from_dict(tuner.cv_results_)\n"
   ]
  },
  {
   "cell_type": "code",
   "execution_count": null,
   "metadata": {
    "colab": {
     "base_uri": "https://localhost:8080/",
     "height": 1000
    },
    "id": "IhXA6c5vg0vu",
    "outputId": "1d757c82-0f21-4f7f-985d-7ba18f175c0b"
   },
   "outputs": [
    {
     "data": {
      "text/html": [
       "<div>\n",
       "<style scoped>\n",
       "    .dataframe tbody tr th:only-of-type {\n",
       "        vertical-align: middle;\n",
       "    }\n",
       "\n",
       "    .dataframe tbody tr th {\n",
       "        vertical-align: top;\n",
       "    }\n",
       "\n",
       "    .dataframe thead th {\n",
       "        text-align: right;\n",
       "    }\n",
       "</style>\n",
       "<table border=\"1\" class=\"dataframe\">\n",
       "  <thead>\n",
       "    <tr style=\"text-align: right;\">\n",
       "      <th></th>\n",
       "      <th>mean_fit_time</th>\n",
       "      <th>std_fit_time</th>\n",
       "      <th>mean_score_time</th>\n",
       "      <th>std_score_time</th>\n",
       "      <th>param_max_depth</th>\n",
       "      <th>param_min_samples_split</th>\n",
       "      <th>params</th>\n",
       "      <th>split0_test_score</th>\n",
       "      <th>split1_test_score</th>\n",
       "      <th>split2_test_score</th>\n",
       "      <th>mean_test_score</th>\n",
       "      <th>std_test_score</th>\n",
       "      <th>rank_test_score</th>\n",
       "      <th>split0_train_score</th>\n",
       "      <th>split1_train_score</th>\n",
       "      <th>split2_train_score</th>\n",
       "      <th>mean_train_score</th>\n",
       "      <th>std_train_score</th>\n",
       "    </tr>\n",
       "  </thead>\n",
       "  <tbody>\n",
       "    <tr>\n",
       "      <th>0</th>\n",
       "      <td>7.237812</td>\n",
       "      <td>0.258317</td>\n",
       "      <td>0.455213</td>\n",
       "      <td>0.027233</td>\n",
       "      <td>1</td>\n",
       "      <td>5</td>\n",
       "      <td>{'max_depth': 1, 'min_samples_split': 5}</td>\n",
       "      <td>0.652164</td>\n",
       "      <td>0.692226</td>\n",
       "      <td>0.691555</td>\n",
       "      <td>0.678648</td>\n",
       "      <td>0.018729</td>\n",
       "      <td>13</td>\n",
       "      <td>0.691890</td>\n",
       "      <td>0.671862</td>\n",
       "      <td>0.672198</td>\n",
       "      <td>0.678650</td>\n",
       "      <td>0.009363</td>\n",
       "    </tr>\n",
       "    <tr>\n",
       "      <th>1</th>\n",
       "      <td>8.643983</td>\n",
       "      <td>0.136418</td>\n",
       "      <td>0.486689</td>\n",
       "      <td>0.024761</td>\n",
       "      <td>1</td>\n",
       "      <td>10</td>\n",
       "      <td>{'max_depth': 1, 'min_samples_split': 10}</td>\n",
       "      <td>0.652164</td>\n",
       "      <td>0.692226</td>\n",
       "      <td>0.691555</td>\n",
       "      <td>0.678648</td>\n",
       "      <td>0.018729</td>\n",
       "      <td>13</td>\n",
       "      <td>0.691890</td>\n",
       "      <td>0.671862</td>\n",
       "      <td>0.672198</td>\n",
       "      <td>0.678650</td>\n",
       "      <td>0.009363</td>\n",
       "    </tr>\n",
       "    <tr>\n",
       "      <th>2</th>\n",
       "      <td>8.749293</td>\n",
       "      <td>0.298232</td>\n",
       "      <td>0.487178</td>\n",
       "      <td>0.029494</td>\n",
       "      <td>1</td>\n",
       "      <td>100</td>\n",
       "      <td>{'max_depth': 1, 'min_samples_split': 100}</td>\n",
       "      <td>0.652164</td>\n",
       "      <td>0.692226</td>\n",
       "      <td>0.691555</td>\n",
       "      <td>0.678648</td>\n",
       "      <td>0.018729</td>\n",
       "      <td>13</td>\n",
       "      <td>0.691890</td>\n",
       "      <td>0.671862</td>\n",
       "      <td>0.672198</td>\n",
       "      <td>0.678650</td>\n",
       "      <td>0.009363</td>\n",
       "    </tr>\n",
       "    <tr>\n",
       "      <th>3</th>\n",
       "      <td>8.814527</td>\n",
       "      <td>0.232779</td>\n",
       "      <td>0.493045</td>\n",
       "      <td>0.023608</td>\n",
       "      <td>1</td>\n",
       "      <td>500</td>\n",
       "      <td>{'max_depth': 1, 'min_samples_split': 500}</td>\n",
       "      <td>0.652164</td>\n",
       "      <td>0.692226</td>\n",
       "      <td>0.691555</td>\n",
       "      <td>0.678648</td>\n",
       "      <td>0.018729</td>\n",
       "      <td>13</td>\n",
       "      <td>0.691890</td>\n",
       "      <td>0.671862</td>\n",
       "      <td>0.672198</td>\n",
       "      <td>0.678650</td>\n",
       "      <td>0.009363</td>\n",
       "    </tr>\n",
       "    <tr>\n",
       "      <th>4</th>\n",
       "      <td>39.038671</td>\n",
       "      <td>2.457260</td>\n",
       "      <td>0.494099</td>\n",
       "      <td>0.025373</td>\n",
       "      <td>5</td>\n",
       "      <td>5</td>\n",
       "      <td>{'max_depth': 5, 'min_samples_split': 5}</td>\n",
       "      <td>0.770598</td>\n",
       "      <td>0.830653</td>\n",
       "      <td>0.831555</td>\n",
       "      <td>0.810935</td>\n",
       "      <td>0.028525</td>\n",
       "      <td>9</td>\n",
       "      <td>0.835497</td>\n",
       "      <td>0.804394</td>\n",
       "      <td>0.805618</td>\n",
       "      <td>0.815170</td>\n",
       "      <td>0.014382</td>\n",
       "    </tr>\n",
       "    <tr>\n",
       "      <th>5</th>\n",
       "      <td>37.247578</td>\n",
       "      <td>2.273855</td>\n",
       "      <td>0.486014</td>\n",
       "      <td>0.038770</td>\n",
       "      <td>5</td>\n",
       "      <td>10</td>\n",
       "      <td>{'max_depth': 5, 'min_samples_split': 10}</td>\n",
       "      <td>0.770598</td>\n",
       "      <td>0.830614</td>\n",
       "      <td>0.831555</td>\n",
       "      <td>0.810923</td>\n",
       "      <td>0.028516</td>\n",
       "      <td>10</td>\n",
       "      <td>0.835497</td>\n",
       "      <td>0.804394</td>\n",
       "      <td>0.805618</td>\n",
       "      <td>0.815170</td>\n",
       "      <td>0.014382</td>\n",
       "    </tr>\n",
       "    <tr>\n",
       "      <th>6</th>\n",
       "      <td>33.304301</td>\n",
       "      <td>2.551445</td>\n",
       "      <td>0.466099</td>\n",
       "      <td>0.030358</td>\n",
       "      <td>5</td>\n",
       "      <td>100</td>\n",
       "      <td>{'max_depth': 5, 'min_samples_split': 100}</td>\n",
       "      <td>0.770553</td>\n",
       "      <td>0.830627</td>\n",
       "      <td>0.831543</td>\n",
       "      <td>0.810908</td>\n",
       "      <td>0.028538</td>\n",
       "      <td>11</td>\n",
       "      <td>0.835462</td>\n",
       "      <td>0.804324</td>\n",
       "      <td>0.805567</td>\n",
       "      <td>0.815118</td>\n",
       "      <td>0.014395</td>\n",
       "    </tr>\n",
       "    <tr>\n",
       "      <th>7</th>\n",
       "      <td>29.818681</td>\n",
       "      <td>2.352680</td>\n",
       "      <td>0.462788</td>\n",
       "      <td>0.023636</td>\n",
       "      <td>5</td>\n",
       "      <td>500</td>\n",
       "      <td>{'max_depth': 5, 'min_samples_split': 500}</td>\n",
       "      <td>0.770389</td>\n",
       "      <td>0.830521</td>\n",
       "      <td>0.831461</td>\n",
       "      <td>0.810790</td>\n",
       "      <td>0.028571</td>\n",
       "      <td>12</td>\n",
       "      <td>0.835254</td>\n",
       "      <td>0.804212</td>\n",
       "      <td>0.805338</td>\n",
       "      <td>0.814935</td>\n",
       "      <td>0.014375</td>\n",
       "    </tr>\n",
       "    <tr>\n",
       "      <th>8</th>\n",
       "      <td>80.143559</td>\n",
       "      <td>3.748202</td>\n",
       "      <td>0.481881</td>\n",
       "      <td>0.024228</td>\n",
       "      <td>10</td>\n",
       "      <td>5</td>\n",
       "      <td>{'max_depth': 10, 'min_samples_split': 5}</td>\n",
       "      <td>0.823323</td>\n",
       "      <td>0.880771</td>\n",
       "      <td>0.881132</td>\n",
       "      <td>0.861742</td>\n",
       "      <td>0.027167</td>\n",
       "      <td>5</td>\n",
       "      <td>0.889790</td>\n",
       "      <td>0.863183</td>\n",
       "      <td>0.863727</td>\n",
       "      <td>0.872233</td>\n",
       "      <td>0.012416</td>\n",
       "    </tr>\n",
       "    <tr>\n",
       "      <th>9</th>\n",
       "      <td>79.830350</td>\n",
       "      <td>3.454783</td>\n",
       "      <td>0.468364</td>\n",
       "      <td>0.018652</td>\n",
       "      <td>10</td>\n",
       "      <td>10</td>\n",
       "      <td>{'max_depth': 10, 'min_samples_split': 10}</td>\n",
       "      <td>0.823241</td>\n",
       "      <td>0.880680</td>\n",
       "      <td>0.881248</td>\n",
       "      <td>0.861723</td>\n",
       "      <td>0.027212</td>\n",
       "      <td>6</td>\n",
       "      <td>0.889719</td>\n",
       "      <td>0.863086</td>\n",
       "      <td>0.863685</td>\n",
       "      <td>0.872163</td>\n",
       "      <td>0.012416</td>\n",
       "    </tr>\n",
       "    <tr>\n",
       "      <th>10</th>\n",
       "      <td>78.076572</td>\n",
       "      <td>4.148698</td>\n",
       "      <td>0.470304</td>\n",
       "      <td>0.022891</td>\n",
       "      <td>10</td>\n",
       "      <td>100</td>\n",
       "      <td>{'max_depth': 10, 'min_samples_split': 100}</td>\n",
       "      <td>0.823152</td>\n",
       "      <td>0.880397</td>\n",
       "      <td>0.880912</td>\n",
       "      <td>0.861487</td>\n",
       "      <td>0.027108</td>\n",
       "      <td>7</td>\n",
       "      <td>0.888422</td>\n",
       "      <td>0.861387</td>\n",
       "      <td>0.862100</td>\n",
       "      <td>0.870636</td>\n",
       "      <td>0.012580</td>\n",
       "    </tr>\n",
       "    <tr>\n",
       "      <th>11</th>\n",
       "      <td>71.924967</td>\n",
       "      <td>3.489432</td>\n",
       "      <td>0.471762</td>\n",
       "      <td>0.019552</td>\n",
       "      <td>10</td>\n",
       "      <td>500</td>\n",
       "      <td>{'max_depth': 10, 'min_samples_split': 500}</td>\n",
       "      <td>0.821591</td>\n",
       "      <td>0.878535</td>\n",
       "      <td>0.879611</td>\n",
       "      <td>0.859912</td>\n",
       "      <td>0.027101</td>\n",
       "      <td>8</td>\n",
       "      <td>0.885582</td>\n",
       "      <td>0.858190</td>\n",
       "      <td>0.859507</td>\n",
       "      <td>0.867760</td>\n",
       "      <td>0.012614</td>\n",
       "    </tr>\n",
       "    <tr>\n",
       "      <th>12</th>\n",
       "      <td>899.041289</td>\n",
       "      <td>37.946364</td>\n",
       "      <td>0.536599</td>\n",
       "      <td>0.025869</td>\n",
       "      <td>50</td>\n",
       "      <td>5</td>\n",
       "      <td>{'max_depth': 50, 'min_samples_split': 5}</td>\n",
       "      <td>0.854806</td>\n",
       "      <td>0.907057</td>\n",
       "      <td>0.910137</td>\n",
       "      <td>0.890667</td>\n",
       "      <td>0.025388</td>\n",
       "      <td>4</td>\n",
       "      <td>0.994858</td>\n",
       "      <td>0.991840</td>\n",
       "      <td>0.992597</td>\n",
       "      <td>0.993099</td>\n",
       "      <td>0.001282</td>\n",
       "    </tr>\n",
       "    <tr>\n",
       "      <th>13</th>\n",
       "      <td>884.988673</td>\n",
       "      <td>23.904063</td>\n",
       "      <td>0.534203</td>\n",
       "      <td>0.013634</td>\n",
       "      <td>50</td>\n",
       "      <td>10</td>\n",
       "      <td>{'max_depth': 50, 'min_samples_split': 10}</td>\n",
       "      <td>0.861133</td>\n",
       "      <td>0.914124</td>\n",
       "      <td>0.916614</td>\n",
       "      <td>0.897290</td>\n",
       "      <td>0.025587</td>\n",
       "      <td>3</td>\n",
       "      <td>0.994380</td>\n",
       "      <td>0.990782</td>\n",
       "      <td>0.991588</td>\n",
       "      <td>0.992250</td>\n",
       "      <td>0.001541</td>\n",
       "    </tr>\n",
       "    <tr>\n",
       "      <th>14</th>\n",
       "      <td>811.079330</td>\n",
       "      <td>19.764237</td>\n",
       "      <td>0.549871</td>\n",
       "      <td>0.034772</td>\n",
       "      <td>50</td>\n",
       "      <td>100</td>\n",
       "      <td>{'max_depth': 50, 'min_samples_split': 100}</td>\n",
       "      <td>0.889273</td>\n",
       "      <td>0.936290</td>\n",
       "      <td>0.937737</td>\n",
       "      <td>0.921100</td>\n",
       "      <td>0.022513</td>\n",
       "      <td>2</td>\n",
       "      <td>0.986419</td>\n",
       "      <td>0.978753</td>\n",
       "      <td>0.979781</td>\n",
       "      <td>0.981651</td>\n",
       "      <td>0.003398</td>\n",
       "    </tr>\n",
       "    <tr>\n",
       "      <th>15</th>\n",
       "      <td>611.272674</td>\n",
       "      <td>13.005855</td>\n",
       "      <td>0.542675</td>\n",
       "      <td>0.030636</td>\n",
       "      <td>50</td>\n",
       "      <td>500</td>\n",
       "      <td>{'max_depth': 50, 'min_samples_split': 500}</td>\n",
       "      <td>0.893011</td>\n",
       "      <td>0.939772</td>\n",
       "      <td>0.942218</td>\n",
       "      <td>0.925000</td>\n",
       "      <td>0.022642</td>\n",
       "      <td>1</td>\n",
       "      <td>0.968896</td>\n",
       "      <td>0.958823</td>\n",
       "      <td>0.958889</td>\n",
       "      <td>0.962203</td>\n",
       "      <td>0.004733</td>\n",
       "    </tr>\n",
       "  </tbody>\n",
       "</table>\n",
       "</div>"
      ],
      "text/plain": [
       "    mean_fit_time  std_fit_time  ...  mean_train_score  std_train_score\n",
       "0        7.237812      0.258317  ...          0.678650         0.009363\n",
       "1        8.643983      0.136418  ...          0.678650         0.009363\n",
       "2        8.749293      0.298232  ...          0.678650         0.009363\n",
       "3        8.814527      0.232779  ...          0.678650         0.009363\n",
       "4       39.038671      2.457260  ...          0.815170         0.014382\n",
       "5       37.247578      2.273855  ...          0.815170         0.014382\n",
       "6       33.304301      2.551445  ...          0.815118         0.014395\n",
       "7       29.818681      2.352680  ...          0.814935         0.014375\n",
       "8       80.143559      3.748202  ...          0.872233         0.012416\n",
       "9       79.830350      3.454783  ...          0.872163         0.012416\n",
       "10      78.076572      4.148698  ...          0.870636         0.012580\n",
       "11      71.924967      3.489432  ...          0.867760         0.012614\n",
       "12     899.041289     37.946364  ...          0.993099         0.001282\n",
       "13     884.988673     23.904063  ...          0.992250         0.001541\n",
       "14     811.079330     19.764237  ...          0.981651         0.003398\n",
       "15     611.272674     13.005855  ...          0.962203         0.004733\n",
       "\n",
       "[16 rows x 18 columns]"
      ]
     },
     "execution_count": 45,
     "metadata": {
      "tags": []
     },
     "output_type": "execute_result"
    }
   ],
   "source": [
    "results"
   ]
  },
  {
   "cell_type": "code",
   "execution_count": null,
   "metadata": {
    "colab": {
     "base_uri": "https://localhost:8080/"
    },
    "id": "nTfmymYYYq3i",
    "outputId": "d3387a74-33b5-45c7-a1a0-f4f22f9cccdf"
   },
   "outputs": [
    {
     "name": "stdout",
     "output_type": "stream",
     "text": [
      "                        mean_test_score            ... mean_train_score          \n",
      "param_min_samples_split             5         10   ...              100       500\n",
      "param_max_depth                                    ...                           \n",
      "1                              0.678648  0.678648  ...         0.678650  0.678650\n",
      "5                              0.810935  0.810923  ...         0.815118  0.814935\n",
      "10                             0.861742  0.861723  ...         0.870636  0.867760\n",
      "50                             0.890667  0.897290  ...         0.981651  0.962203\n",
      "\n",
      "[4 rows x 8 columns]\n"
     ]
    }
   ],
   "source": [
    "result = results.groupby(['param_max_depth', 'param_min_samples_split']).max().unstack()[['mean_test_score', 'mean_train_score']]\n",
    "print(result)"
   ]
  },
  {
   "cell_type": "code",
   "execution_count": null,
   "metadata": {
    "colab": {
     "base_uri": "https://localhost:8080/",
     "height": 296
    },
    "id": "jw8_-ef1236F",
    "outputId": "d68555f7-c6e9-450f-d4ae-c5d9256e8374"
   },
   "outputs": [
    {
     "data": {
      "image/png": "[encoded data removed]",
      "text/plain": [
       "<Figure size 432x288 with 2 Axes>"
      ]
     },
     "metadata": {
      "needs_background": "light",
      "tags": []
     },
     "output_type": "display_data"
    }
   ],
   "source": [
    "sns.heatmap(result.mean_train_score, annot=True, fmt='.6g')\n",
    "plt.title('Train plot')\n",
    "plt.show()"
   ]
  },
  {
   "cell_type": "code",
   "execution_count": null,
   "metadata": {
    "colab": {
     "base_uri": "https://localhost:8080/",
     "height": 296
    },
    "id": "XkiaXI1l23_m",
    "outputId": "d7e825a1-3143-42b2-b428-79432f4e882f"
   },
   "outputs": [
    {
     "data": {
      "image/png": "[encoded data removed]",
      "text/plain": [
       "<Figure size 432x288 with 2 Axes>"
      ]
     },
     "metadata": {
      "needs_background": "light",
      "tags": []
     },
     "output_type": "display_data"
    }
   ],
   "source": [
    "sns.heatmap(result.mean_test_score, annot=True, fmt='.6g')\n",
    "plt.title('CV plot')\n",
    "plt.show()"
   ]
  },
  {
   "cell_type": "markdown",
   "metadata": {
    "id": "BwO0ynRp97dp"
   },
   "source": [
    "*Therefore the best hyper-parameters are max-depth = 50 and min_sample_split=500.*"
   ]
  },
  {
   "cell_type": "code",
   "execution_count": null,
   "metadata": {
    "colab": {
     "base_uri": "https://localhost:8080/",
     "height": 295
    },
    "id": "fmK-_eXy24KX",
    "outputId": "f84a69bb-ffba-4ccd-c905-b0a166d9d870"
   },
   "outputs": [
    {
     "data": {
      "image/png": "[encoded data removed]",
      "text/plain": [
       "<Figure size 432x288 with 1 Axes>"
      ]
     },
     "metadata": {
      "needs_background": "light",
      "tags": []
     },
     "output_type": "display_data"
    }
   ],
   "source": [
    "clf = tree.DecisionTreeClassifier( max_depth = 50, min_samples_split=500, criterion='gini',class_weight='balanced')\n",
    "clf.fit(x_os_tr, y_train)\n",
    "\n",
    "train_pred = clf.predict_proba(x_os_tr)[:,1]\n",
    "test_pred = clf.predict_proba(x_tfidf_cv)[:,1]\n",
    "\n",
    "tr_fpr, tr_tpr, tr_threshold = roc_curve(y_train, train_pred)\n",
    "te_fpr, te_tpr, te_threshold = roc_curve(y_cv, test_pred)\n",
    "\n",
    "plt.plot(tr_fpr, tr_tpr, label=\"train AUC=\"+str(auc(tr_fpr, tr_tpr)))\n",
    "plt.plot(te_fpr, te_tpr, label=\"test AUC=\"+str(auc(te_fpr, te_tpr)))\n",
    "\n",
    "plt.legend()\n",
    "plt.xlabel(\"FPR\")\n",
    "plt.ylabel(\"TPR\")\n",
    "plt.title(\"ROC curve for tfidf vectorization\") \n",
    "\n",
    "plt.grid()\n",
    "plt.show()"
   ]
  },
  {
   "cell_type": "code",
   "execution_count": null,
   "metadata": {
    "colab": {
     "base_uri": "https://localhost:8080/",
     "height": 281
    },
    "id": "7NLfW1MF24QA",
    "outputId": "0def5098-47ee-45ca-b122-e59c9ce8657b"
   },
   "outputs": [
    {
     "data": {
      "image/png": "[encoded data removed]",
      "text/plain": [
       "<Figure size 432x288 with 2 Axes>"
      ]
     },
     "metadata": {
      "needs_background": "light",
      "tags": []
     },
     "output_type": "display_data"
    }
   ],
   "source": [
    "sns.heatmap(confusion_matrix(y_cv, clf.predict(x_tfidf_cv)), annot= True)\n",
    "plt.title('test confusion matrix')\n",
    "plt.show()"
   ]
  },
  {
   "cell_type": "code",
   "execution_count": null,
   "metadata": {
    "colab": {
     "base_uri": "https://localhost:8080/",
     "height": 281
    },
    "id": "lZlyAoY424Vs",
    "outputId": "f317f75c-8b06-49aa-b17a-edcf8a433117"
   },
   "outputs": [
    {
     "data": {
      "image/png": "[encoded data removed]",
      "text/plain": [
       "<Figure size 432x288 with 2 Axes>"
      ]
     },
     "metadata": {
      "needs_background": "light",
      "tags": []
     },
     "output_type": "display_data"
    }
   ],
   "source": [
    "sns.heatmap(confusion_matrix(y_train, clf.predict(x_os_tr)), annot= True)\n",
    "plt.title('train confusion matrix')\n",
    "plt.show()"
   ]
  },
  {
   "cell_type": "code",
   "execution_count": null,
   "metadata": {},
   "outputs": [],
   "source": [
    "#calculating F1 Score\n",
    "\n",
    "y_predte = clf.predict(x_tfidf_cv)\n",
    "f1_test = f1_score(y_cv, y_predte)\n",
    "\n",
    "\n",
    "print('F1 score for test set', f1_test)"
   ]
  },
  {
   "cell_type": "markdown",
   "metadata": {
    "id": "33wljs48EaUX"
   },
   "source": [
    "*Decision Tree is worse than Logistic Regression model here.*"
   ]
  },
  {
   "cell_type": "markdown",
   "metadata": {},
   "source": [
    "# Naive Bayes Model"
   ]
  },
  {
   "cell_type": "code",
   "execution_count": 26,
   "metadata": {
    "colab": {
     "base_uri": "https://localhost:8080/",
     "height": 438
    },
    "id": "v5_7BNaE25BP",
    "outputId": "e9306d0d-9ea0-405b-9601-0edce647a6e5"
   },
   "outputs": [
    {
     "data": {
      "text/html": [
       "<div>\n",
       "<style scoped>\n",
       "    .dataframe tbody tr th:only-of-type {\n",
       "        vertical-align: middle;\n",
       "    }\n",
       "\n",
       "    .dataframe tbody tr th {\n",
       "        vertical-align: top;\n",
       "    }\n",
       "\n",
       "    .dataframe thead th {\n",
       "        text-align: right;\n",
       "    }\n",
       "</style>\n",
       "<table border=\"1\" class=\"dataframe\">\n",
       "  <thead>\n",
       "    <tr style=\"text-align: right;\">\n",
       "      <th></th>\n",
       "      <th>mean_fit_time</th>\n",
       "      <th>std_fit_time</th>\n",
       "      <th>mean_score_time</th>\n",
       "      <th>std_score_time</th>\n",
       "      <th>param_alpha</th>\n",
       "      <th>params</th>\n",
       "      <th>split0_test_score</th>\n",
       "      <th>split1_test_score</th>\n",
       "      <th>split2_test_score</th>\n",
       "      <th>split3_test_score</th>\n",
       "      <th>...</th>\n",
       "      <th>mean_test_score</th>\n",
       "      <th>std_test_score</th>\n",
       "      <th>rank_test_score</th>\n",
       "      <th>split0_train_score</th>\n",
       "      <th>split1_train_score</th>\n",
       "      <th>split2_train_score</th>\n",
       "      <th>split3_train_score</th>\n",
       "      <th>split4_train_score</th>\n",
       "      <th>mean_train_score</th>\n",
       "      <th>std_train_score</th>\n",
       "    </tr>\n",
       "  </thead>\n",
       "  <tbody>\n",
       "    <tr>\n",
       "      <th>0</th>\n",
       "      <td>5.830501</td>\n",
       "      <td>7.295964</td>\n",
       "      <td>0.318661</td>\n",
       "      <td>0.046885</td>\n",
       "      <td>1e-05</td>\n",
       "      <td>{'alpha': 1e-05}</td>\n",
       "      <td>0.948569</td>\n",
       "      <td>0.958433</td>\n",
       "      <td>0.957957</td>\n",
       "      <td>0.958260</td>\n",
       "      <td>...</td>\n",
       "      <td>0.956451</td>\n",
       "      <td>0.003957</td>\n",
       "      <td>2</td>\n",
       "      <td>0.959848</td>\n",
       "      <td>0.957266</td>\n",
       "      <td>0.957466</td>\n",
       "      <td>0.957259</td>\n",
       "      <td>0.957199</td>\n",
       "      <td>0.957808</td>\n",
       "      <td>0.001024</td>\n",
       "    </tr>\n",
       "    <tr>\n",
       "      <th>1</th>\n",
       "      <td>11.483733</td>\n",
       "      <td>7.855122</td>\n",
       "      <td>0.221122</td>\n",
       "      <td>0.093038</td>\n",
       "      <td>0.0001</td>\n",
       "      <td>{'alpha': 0.0001}</td>\n",
       "      <td>0.948550</td>\n",
       "      <td>0.958412</td>\n",
       "      <td>0.957934</td>\n",
       "      <td>0.958250</td>\n",
       "      <td>...</td>\n",
       "      <td>0.956431</td>\n",
       "      <td>0.003956</td>\n",
       "      <td>3</td>\n",
       "      <td>0.959828</td>\n",
       "      <td>0.957247</td>\n",
       "      <td>0.957446</td>\n",
       "      <td>0.957242</td>\n",
       "      <td>0.957179</td>\n",
       "      <td>0.957788</td>\n",
       "      <td>0.001024</td>\n",
       "    </tr>\n",
       "    <tr>\n",
       "      <th>2</th>\n",
       "      <td>16.473790</td>\n",
       "      <td>2.236414</td>\n",
       "      <td>0.226162</td>\n",
       "      <td>0.128358</td>\n",
       "      <td>0.001</td>\n",
       "      <td>{'alpha': 0.001}</td>\n",
       "      <td>0.948528</td>\n",
       "      <td>0.958385</td>\n",
       "      <td>0.957906</td>\n",
       "      <td>0.958237</td>\n",
       "      <td>...</td>\n",
       "      <td>0.956407</td>\n",
       "      <td>0.003954</td>\n",
       "      <td>4</td>\n",
       "      <td>0.959804</td>\n",
       "      <td>0.957223</td>\n",
       "      <td>0.957422</td>\n",
       "      <td>0.957218</td>\n",
       "      <td>0.957154</td>\n",
       "      <td>0.957764</td>\n",
       "      <td>0.001024</td>\n",
       "    </tr>\n",
       "    <tr>\n",
       "      <th>3</th>\n",
       "      <td>11.450737</td>\n",
       "      <td>0.835603</td>\n",
       "      <td>0.360057</td>\n",
       "      <td>0.037134</td>\n",
       "      <td>0.01</td>\n",
       "      <td>{'alpha': 0.01}</td>\n",
       "      <td>0.948503</td>\n",
       "      <td>0.958353</td>\n",
       "      <td>0.957873</td>\n",
       "      <td>0.958220</td>\n",
       "      <td>...</td>\n",
       "      <td>0.956377</td>\n",
       "      <td>0.003952</td>\n",
       "      <td>6</td>\n",
       "      <td>0.959773</td>\n",
       "      <td>0.957192</td>\n",
       "      <td>0.957392</td>\n",
       "      <td>0.957188</td>\n",
       "      <td>0.957123</td>\n",
       "      <td>0.957734</td>\n",
       "      <td>0.001024</td>\n",
       "    </tr>\n",
       "    <tr>\n",
       "      <th>4</th>\n",
       "      <td>5.524276</td>\n",
       "      <td>4.328826</td>\n",
       "      <td>0.340478</td>\n",
       "      <td>0.152961</td>\n",
       "      <td>0.1</td>\n",
       "      <td>{'alpha': 0.1}</td>\n",
       "      <td>0.948494</td>\n",
       "      <td>0.958317</td>\n",
       "      <td>0.957839</td>\n",
       "      <td>0.958204</td>\n",
       "      <td>...</td>\n",
       "      <td>0.956351</td>\n",
       "      <td>0.003943</td>\n",
       "      <td>7</td>\n",
       "      <td>0.959736</td>\n",
       "      <td>0.957158</td>\n",
       "      <td>0.957357</td>\n",
       "      <td>0.957150</td>\n",
       "      <td>0.957089</td>\n",
       "      <td>0.957698</td>\n",
       "      <td>0.001023</td>\n",
       "    </tr>\n",
       "    <tr>\n",
       "      <th>5</th>\n",
       "      <td>1.872792</td>\n",
       "      <td>0.170908</td>\n",
       "      <td>0.254718</td>\n",
       "      <td>0.082445</td>\n",
       "      <td>1</td>\n",
       "      <td>{'alpha': 1}</td>\n",
       "      <td>0.948678</td>\n",
       "      <td>0.958308</td>\n",
       "      <td>0.957844</td>\n",
       "      <td>0.958244</td>\n",
       "      <td>...</td>\n",
       "      <td>0.956397</td>\n",
       "      <td>0.003874</td>\n",
       "      <td>5</td>\n",
       "      <td>0.959702</td>\n",
       "      <td>0.957145</td>\n",
       "      <td>0.957344</td>\n",
       "      <td>0.957123</td>\n",
       "      <td>0.957076</td>\n",
       "      <td>0.957678</td>\n",
       "      <td>0.001016</td>\n",
       "    </tr>\n",
       "    <tr>\n",
       "      <th>6</th>\n",
       "      <td>2.368702</td>\n",
       "      <td>0.363131</td>\n",
       "      <td>0.311732</td>\n",
       "      <td>0.092938</td>\n",
       "      <td>10</td>\n",
       "      <td>{'alpha': 10}</td>\n",
       "      <td>0.949266</td>\n",
       "      <td>0.958198</td>\n",
       "      <td>0.957852</td>\n",
       "      <td>0.958303</td>\n",
       "      <td>...</td>\n",
       "      <td>0.956509</td>\n",
       "      <td>0.003638</td>\n",
       "      <td>1</td>\n",
       "      <td>0.959468</td>\n",
       "      <td>0.957009</td>\n",
       "      <td>0.957205</td>\n",
       "      <td>0.956942</td>\n",
       "      <td>0.956927</td>\n",
       "      <td>0.957510</td>\n",
       "      <td>0.000984</td>\n",
       "    </tr>\n",
       "    <tr>\n",
       "      <th>7</th>\n",
       "      <td>2.065215</td>\n",
       "      <td>0.257129</td>\n",
       "      <td>0.319345</td>\n",
       "      <td>0.141727</td>\n",
       "      <td>100</td>\n",
       "      <td>{'alpha': 100}</td>\n",
       "      <td>0.947022</td>\n",
       "      <td>0.955590</td>\n",
       "      <td>0.955529</td>\n",
       "      <td>0.956043</td>\n",
       "      <td>...</td>\n",
       "      <td>0.954165</td>\n",
       "      <td>0.003593</td>\n",
       "      <td>8</td>\n",
       "      <td>0.956657</td>\n",
       "      <td>0.954321</td>\n",
       "      <td>0.954472</td>\n",
       "      <td>0.954177</td>\n",
       "      <td>0.954175</td>\n",
       "      <td>0.954760</td>\n",
       "      <td>0.000955</td>\n",
       "    </tr>\n",
       "  </tbody>\n",
       "</table>\n",
       "<p>8 rows × 21 columns</p>\n",
       "</div>"
      ],
      "text/plain": [
       "   mean_fit_time  std_fit_time  mean_score_time  std_score_time param_alpha  \\\n",
       "0       5.830501      7.295964         0.318661        0.046885       1e-05   \n",
       "1      11.483733      7.855122         0.221122        0.093038      0.0001   \n",
       "2      16.473790      2.236414         0.226162        0.128358       0.001   \n",
       "3      11.450737      0.835603         0.360057        0.037134        0.01   \n",
       "4       5.524276      4.328826         0.340478        0.152961         0.1   \n",
       "5       1.872792      0.170908         0.254718        0.082445           1   \n",
       "6       2.368702      0.363131         0.311732        0.092938          10   \n",
       "7       2.065215      0.257129         0.319345        0.141727         100   \n",
       "\n",
       "              params  split0_test_score  split1_test_score  split2_test_score  \\\n",
       "0   {'alpha': 1e-05}           0.948569           0.958433           0.957957   \n",
       "1  {'alpha': 0.0001}           0.948550           0.958412           0.957934   \n",
       "2   {'alpha': 0.001}           0.948528           0.958385           0.957906   \n",
       "3    {'alpha': 0.01}           0.948503           0.958353           0.957873   \n",
       "4     {'alpha': 0.1}           0.948494           0.958317           0.957839   \n",
       "5       {'alpha': 1}           0.948678           0.958308           0.957844   \n",
       "6      {'alpha': 10}           0.949266           0.958198           0.957852   \n",
       "7     {'alpha': 100}           0.947022           0.955590           0.955529   \n",
       "\n",
       "   split3_test_score  ...  mean_test_score  std_test_score  rank_test_score  \\\n",
       "0           0.958260  ...         0.956451        0.003957                2   \n",
       "1           0.958250  ...         0.956431        0.003956                3   \n",
       "2           0.958237  ...         0.956407        0.003954                4   \n",
       "3           0.958220  ...         0.956377        0.003952                6   \n",
       "4           0.958204  ...         0.956351        0.003943                7   \n",
       "5           0.958244  ...         0.956397        0.003874                5   \n",
       "6           0.958303  ...         0.956509        0.003638                1   \n",
       "7           0.956043  ...         0.954165        0.003593                8   \n",
       "\n",
       "   split0_train_score  split1_train_score  split2_train_score  \\\n",
       "0            0.959848            0.957266            0.957466   \n",
       "1            0.959828            0.957247            0.957446   \n",
       "2            0.959804            0.957223            0.957422   \n",
       "3            0.959773            0.957192            0.957392   \n",
       "4            0.959736            0.957158            0.957357   \n",
       "5            0.959702            0.957145            0.957344   \n",
       "6            0.959468            0.957009            0.957205   \n",
       "7            0.956657            0.954321            0.954472   \n",
       "\n",
       "   split3_train_score  split4_train_score  mean_train_score  std_train_score  \n",
       "0            0.957259            0.957199          0.957808         0.001024  \n",
       "1            0.957242            0.957179          0.957788         0.001024  \n",
       "2            0.957218            0.957154          0.957764         0.001024  \n",
       "3            0.957188            0.957123          0.957734         0.001024  \n",
       "4            0.957150            0.957089          0.957698         0.001023  \n",
       "5            0.957123            0.957076          0.957678         0.001016  \n",
       "6            0.956942            0.956927          0.957510         0.000984  \n",
       "7            0.954177            0.954175          0.954760         0.000955  \n",
       "\n",
       "[8 rows x 21 columns]"
      ]
     },
     "execution_count": 26,
     "metadata": {},
     "output_type": "execute_result"
    }
   ],
   "source": [
    "from sklearn.naive_bayes import MultinomialNB\n",
    "\n",
    "clf = MultinomialNB(class_prior = [0.5, 0.5])\n",
    "\n",
    "param = {'alpha': [0.00001,0.0001,0.001,0.01,0.1,1,10,100]}\n",
    "\n",
    "\n",
    "tuner = GridSearchCV(clf, param, cv=5, scoring='roc_auc', return_train_score=True, n_jobs=-1)\n",
    "tuner.fit(x_os_tr, y_train)\n",
    "\n",
    "results = pd.DataFrame.from_dict(tuner.cv_results_)\n",
    "results"
   ]
  },
  {
   "cell_type": "code",
   "execution_count": 27,
   "metadata": {
    "colab": {
     "base_uri": "https://localhost:8080/",
     "height": 279
    },
    "id": "o2N31KIk25Gg",
    "outputId": "cfad8b75-7725-41a4-8ce9-0d56060faf7a"
   },
   "outputs": [
    {
     "data": {
      "image/png": "[encoded data removed]",
      "text/plain": [
       "<Figure size 432x288 with 1 Axes>"
      ]
     },
     "metadata": {
      "needs_background": "light"
     },
     "output_type": "display_data"
    }
   ],
   "source": [
    "train_auc = results['mean_train_score']\n",
    "cv_auc = results['mean_test_score']\n",
    "alpha = results['param_alpha']\n",
    "\n",
    "plt.plot(alpha, train_auc, label=\"train_AUC\" )\n",
    "plt.plot(alpha, cv_auc, label='cv_AUC')\n",
    "plt.scatter(alpha, train_auc, label=\"train_AUC\")\n",
    "plt.scatter(alpha, cv_auc, label='cv_AUC')\n",
    "\n",
    "plt.legend()\n",
    "plt.xlabel('Hyper-parameter')\n",
    "plt.ylabel('AUC Scores')\n",
    "plt.show()"
   ]
  },
  {
   "cell_type": "markdown",
   "metadata": {
    "id": "nKjnkCEuym9Y"
   },
   "source": [
    "**Therefore the best auc for alpha=10.**"
   ]
  },
  {
   "cell_type": "code",
   "execution_count": 28,
   "metadata": {
    "colab": {
     "base_uri": "https://localhost:8080/",
     "height": 295
    },
    "id": "jjXvKYeE25Ni",
    "outputId": "ab73ab29-7f73-4dc2-eac8-a9c204983da1"
   },
   "outputs": [
    {
     "data": {
      "image/png": "[encoded data removed]",
      "text/plain": [
       "<Figure size 432x288 with 1 Axes>"
      ]
     },
     "metadata": {
      "needs_background": "light"
     },
     "output_type": "display_data"
    }
   ],
   "source": [
    "clf = MultinomialNB(alpha=10, class_prior = [0.5, 0.5])\n",
    "clf.fit(x_os_tr, y_train)\n",
    "\n",
    "train_pred = clf.predict_proba(x_os_tr)[:,1]\n",
    "test_pred = clf.predict_proba(x_tfidf_cv)[:,1]\n",
    "\n",
    "tr_fpr, tr_tpr, tr_threshold = roc_curve(y_train, train_pred)\n",
    "te_fpr, te_tpr, te_threshold = roc_curve(y_cv, test_pred)\n",
    "\n",
    "plt.plot(tr_fpr, tr_tpr, label=\"train AUC=\"+str(auc(tr_fpr, tr_tpr)))\n",
    "plt.plot(te_fpr, te_tpr, label=\"test AUC=\"+str(auc(te_fpr, te_tpr)))\n",
    "\n",
    "plt.legend()\n",
    "plt.xlabel(\"FPR\")\n",
    "plt.ylabel(\"TPR\")\n",
    "plt.title(\"ROC curve for tfidf vectorization\") \n",
    "\n",
    "plt.grid()\n",
    "plt.show()\n"
   ]
  },
  {
   "cell_type": "code",
   "execution_count": 29,
   "metadata": {
    "colab": {
     "base_uri": "https://localhost:8080/",
     "height": 265
    },
    "id": "22CbwIvT25Ta",
    "outputId": "5e9de130-77da-41bf-a2db-cf10e6f39d74"
   },
   "outputs": [
    {
     "data": {
      "image/png": "[encoded data removed]",
      "text/plain": [
       "<Figure size 432x288 with 2 Axes>"
      ]
     },
     "metadata": {
      "needs_background": "light"
     },
     "output_type": "display_data"
    }
   ],
   "source": [
    "#test data confusion matrix\n",
    "sns.heatmap(confusion_matrix(y_cv, clf.predict(x_tfidf_cv)), annot= True)\n",
    "plt.show()"
   ]
  },
  {
   "cell_type": "code",
   "execution_count": 30,
   "metadata": {
    "colab": {
     "base_uri": "https://localhost:8080/",
     "height": 265
    },
    "id": "CljegQTR25ZP",
    "outputId": "e7dfe542-23e4-4145-d84e-ec816c375586"
   },
   "outputs": [
    {
     "data": {
      "image/png": "[encoded data removed]",
      "text/plain": [
       "<Figure size 432x288 with 2 Axes>"
      ]
     },
     "metadata": {
      "needs_background": "light"
     },
     "output_type": "display_data"
    }
   ],
   "source": [
    "#train_data confusion matrix\n",
    "\n",
    "sns.heatmap(confusion_matrix(y_train, clf.predict(x_os_tr)), annot= True)\n",
    "plt.show()"
   ]
  },
  {
   "cell_type": "code",
   "execution_count": 31,
   "metadata": {
    "colab": {
     "base_uri": "https://localhost:8080/"
    },
    "id": "ewFxSPiA25fC",
    "outputId": "62012442-49d2-4e46-a238-331e2f6f326f"
   },
   "outputs": [
    {
     "name": "stdout",
     "output_type": "stream",
     "text": [
      "F1 score for test set 0.924332605037796\n"
     ]
    }
   ],
   "source": [
    "#calculating F1 Score\n",
    "\n",
    "y_predte = clf.predict(x_tfidf_cv)\n",
    "f1_test = f1_score(y_cv, y_predte)\n",
    "\n",
    "\n",
    "print('F1 score for test set', f1_test)"
   ]
  },
  {
   "cell_type": "markdown",
   "metadata": {
    "id": "Z5YamjGQYO_T"
   },
   "source": [
    "# Stacking the logistic Regression Model and the Naive bayes model with a logistic regression model over it."
   ]
  },
  {
   "cell_type": "code",
   "execution_count": 39,
   "metadata": {
    "colab": {
     "base_uri": "https://localhost:8080/",
     "height": 295
    },
    "id": "3irN4Pfm25qI",
    "outputId": "e815d22d-be63-4d52-9b11-88113b7559b5"
   },
   "outputs": [
    {
     "data": {
      "image/png": "[encoded data removed]",
      "text/plain": [
       "<Figure size 432x288 with 1 Axes>"
      ]
     },
     "metadata": {
      "needs_background": "light"
     },
     "output_type": "display_data"
    }
   ],
   "source": [
    "estimators = [('NB' , MultinomialNB(alpha=10, class_prior = [0.5, 0.5])) , ('logisticreg', SGDClassifier(loss='log', alpha=0.0001))]\n",
    "\n",
    "clf = StackingClassifier(estimators=estimators, final_estimator=SGDClassifier(loss='log'))\n",
    "\n",
    "clf.fit(x_os_tr, y_train)\n",
    "\n",
    "train_pred = clf.predict_proba(x_os_tr)[:,1]\n",
    "test_pred = clf.predict_proba(x_tfidf_cv)[:,1]\n",
    "\n",
    "tr_fpr, tr_tpr, tr_threshold = roc_curve(y_train, train_pred)\n",
    "te_fpr, te_tpr, te_threshold = roc_curve(y_cv, test_pred)\n",
    "\n",
    "plt.plot(tr_fpr, tr_tpr, label=\"train AUC=\"+str(auc(tr_fpr, tr_tpr)))\n",
    "plt.plot(te_fpr, te_tpr, label=\"test AUC=\"+str(auc(te_fpr, te_tpr)))\n",
    "\n",
    "plt.legend()\n",
    "plt.xlabel(\"FPR\")\n",
    "plt.ylabel(\"TPR\")\n",
    "plt.title(\"ROC curve for tfidf vectorization\") \n",
    "\n",
    "plt.grid()\n",
    "plt.show()"
   ]
  },
  {
   "cell_type": "code",
   "execution_count": 40,
   "metadata": {
    "colab": {
     "base_uri": "https://localhost:8080/",
     "height": 265
    },
    "id": "kDJH3J5l25v5",
    "outputId": "7c7d5f7f-0b2b-4d45-f4f8-ab9ae0c4afff"
   },
   "outputs": [
    {
     "data": {
      "image/png": "[encoded data removed]",
      "text/plain": [
       "<Figure size 432x288 with 2 Axes>"
      ]
     },
     "metadata": {
      "needs_background": "light"
     },
     "output_type": "display_data"
    }
   ],
   "source": [
    "#test data confusion matrix\n",
    "sns.heatmap(confusion_matrix(y_cv, clf.predict(x_tfidf_cv)), annot= True)\n",
    "plt.show()"
   ]
  },
  {
   "cell_type": "code",
   "execution_count": 41,
   "metadata": {
    "colab": {
     "base_uri": "https://localhost:8080/",
     "height": 265
    },
    "id": "ioJUnnn9252C",
    "outputId": "7524a512-a479-4a66-cea4-3434d4b03bfb"
   },
   "outputs": [
    {
     "data": {
      "image/png": "[encoded data removed]",
      "text/plain": [
       "<Figure size 432x288 with 2 Axes>"
      ]
     },
     "metadata": {
      "needs_background": "light"
     },
     "output_type": "display_data"
    }
   ],
   "source": [
    "#train data confusion matrix\n",
    "sns.heatmap(confusion_matrix(y_train, clf.predict(x_os_tr)), annot= True)\n",
    "plt.show()"
   ]
  },
  {
   "cell_type": "code",
   "execution_count": 42,
   "metadata": {
    "colab": {
     "base_uri": "https://localhost:8080/"
    },
    "id": "es5ggtOc257y",
    "outputId": "a35ff18b-a460-4b7a-81e6-8606d8939282"
   },
   "outputs": [
    {
     "name": "stdout",
     "output_type": "stream",
     "text": [
      "F1 score for test set 0.9360614355555081\n"
     ]
    }
   ],
   "source": [
    "#calculating F1 Score\n",
    "\n",
    "y_predte = clf.predict(x_tfidf_cv)\n",
    "f1_test = f1_score(y_cv, y_predte)\n",
    "\n",
    "\n",
    "print('F1 score for test set', f1_test)"
   ]
  },
  {
   "cell_type": "code",
   "execution_count": 43,
   "metadata": {
    "id": "e24QnBNL26B9"
   },
   "outputs": [
    {
     "name": "stdout",
     "output_type": "stream",
     "text": [
      "+-------------------------+----------+---------------+\n",
      "|          Model          | Test AUC | Test F1-score |\n",
      "+-------------------------+----------+---------------+\n",
      "|   Logistic Regression   |  0.9473  |     0.9254    |\n",
      "|      Decision Tree      |  0.8653  |      0.84     |\n",
      "| Multinomial Naive bayes |  0.9464  |     0.9243    |\n",
      "|   Stacking Classifier   |  0.9563  |     0.9378    |\n",
      "+-------------------------+----------+---------------+\n"
     ]
    }
   ],
   "source": [
    "from prettytable import PrettyTable\n",
    "\n",
    "table = PrettyTable()\n",
    "\n",
    "\n",
    "table.field_names = ['Model', 'Test AUC', 'Test F1-score']\n",
    "\n",
    "table.add_row(['Logistic Regression',0.9473 , 0.9254])\n",
    "table.add_row(['Decision Tree', 0.8653, 0.84])\n",
    "table.add_row(['Multinomial Naive bayes', 0.9464, 0.9243])\n",
    "table.add_row(['Stacking Classifier', 0.9563 ,0.9378])\n",
    "print(table)"
   ]
  },
  {
   "cell_type": "code",
   "execution_count": 44,
   "metadata": {
    "id": "ek1Rx5J626IB"
   },
   "outputs": [],
   "source": [
    "pickle.dump(clf, open('model.pkl','wb'))"
   ]
  },
  {
   "cell_type": "code",
   "execution_count": null,
   "metadata": {
    "id": "6ISLLAvr26OS"
   },
   "outputs": [],
   "source": []
  },
  {
   "cell_type": "code",
   "execution_count": null,
   "metadata": {
    "id": "rxxDjr7d26UM"
   },
   "outputs": [],
   "source": []
  },
  {
   "cell_type": "code",
   "execution_count": null,
   "metadata": {
    "id": "Qn1h2J9C26as"
   },
   "outputs": [],
   "source": []
  },
  {
   "cell_type": "code",
   "execution_count": null,
   "metadata": {
    "id": "-XTqbX7Y26gx"
   },
   "outputs": [],
   "source": []
  },
  {
   "cell_type": "code",
   "execution_count": null,
   "metadata": {
    "id": "MGcIuxcW26mx"
   },
   "outputs": [],
   "source": []
  },
  {
   "cell_type": "code",
   "execution_count": null,
   "metadata": {
    "id": "8orPJKfV26tE"
   },
   "outputs": [],
   "source": []
  },
  {
   "cell_type": "code",
   "execution_count": null,
   "metadata": {
    "id": "gDmpajh126yW"
   },
   "outputs": [],
   "source": []
  },
  {
   "cell_type": "code",
   "execution_count": null,
   "metadata": {
    "id": "WzViH1KQ264r"
   },
   "outputs": [],
   "source": []
  },
  {
   "cell_type": "code",
   "execution_count": null,
   "metadata": {
    "id": "giwIZ2Il26-d"
   },
   "outputs": [],
   "source": []
  },
  {
   "cell_type": "code",
   "execution_count": null,
   "metadata": {
    "id": "dWdkFAAo27Fa"
   },
   "outputs": [],
   "source": []
  },
  {
   "cell_type": "code",
   "execution_count": null,
   "metadata": {
    "id": "4OPyYfps27LB"
   },
   "outputs": [],
   "source": []
  },
  {
   "cell_type": "code",
   "execution_count": null,
   "metadata": {
    "id": "Yp9RV2UI27Re"
   },
   "outputs": [],
   "source": []
  },
  {
   "cell_type": "code",
   "execution_count": null,
   "metadata": {
    "id": "yiaHsdRH27Uw"
   },
   "outputs": [],
   "source": []
  },
  {
   "cell_type": "code",
   "execution_count": null,
   "metadata": {
    "id": "DHumfCwv27OP"
   },
   "outputs": [],
   "source": []
  },
  {
   "cell_type": "code",
   "execution_count": null,
   "metadata": {
    "id": "OtOhruZx27Hx"
   },
   "outputs": [],
   "source": []
  },
  {
   "cell_type": "code",
   "execution_count": null,
   "metadata": {
    "id": "9BQrTx9z27B-"
   },
   "outputs": [],
   "source": []
  },
  {
   "cell_type": "code",
   "execution_count": null,
   "metadata": {
    "id": "1Vm1QbQ2267o"
   },
   "outputs": [],
   "source": []
  },
  {
   "cell_type": "code",
   "execution_count": null,
   "metadata": {
    "id": "m888BNMd261R"
   },
   "outputs": [],
   "source": []
  },
  {
   "cell_type": "code",
   "execution_count": null,
   "metadata": {
    "id": "gZKU20YM26vT"
   },
   "outputs": [],
   "source": []
  },
  {
   "cell_type": "code",
   "execution_count": null,
   "metadata": {
    "id": "k92X5VGN26pd"
   },
   "outputs": [],
   "source": []
  },
  {
   "cell_type": "code",
   "execution_count": null,
   "metadata": {
    "id": "ZOiJpTTE26jn"
   },
   "outputs": [],
   "source": []
  },
  {
   "cell_type": "code",
   "execution_count": null,
   "metadata": {
    "id": "ioRrzxLd26dx"
   },
   "outputs": [],
   "source": []
  },
  {
   "cell_type": "code",
   "execution_count": null,
   "metadata": {
    "id": "QkPcTt1H26XU"
   },
   "outputs": [],
   "source": []
  },
  {
   "cell_type": "code",
   "execution_count": null,
   "metadata": {
    "id": "KOvccqQm26Qn"
   },
   "outputs": [],
   "source": []
  },
  {
   "cell_type": "code",
   "execution_count": null,
   "metadata": {
    "id": "mZTgOhzK26K-"
   },
   "outputs": [],
   "source": []
  },
  {
   "cell_type": "code",
   "execution_count": null,
   "metadata": {
    "id": "i0B1Usmt26E1"
   },
   "outputs": [],
   "source": []
  },
  {
   "cell_type": "code",
   "execution_count": null,
   "metadata": {
    "id": "cw7DIcUP25-3"
   },
   "outputs": [],
   "source": []
  },
  {
   "cell_type": "code",
   "execution_count": null,
   "metadata": {
    "id": "T2CXSKpv2547"
   },
   "outputs": [],
   "source": []
  },
  {
   "cell_type": "code",
   "execution_count": null,
   "metadata": {
    "id": "cPOufYFt25zQ"
   },
   "outputs": [],
   "source": []
  },
  {
   "cell_type": "code",
   "execution_count": null,
   "metadata": {
    "id": "ykdVeXso25tS"
   },
   "outputs": [],
   "source": []
  },
  {
   "cell_type": "code",
   "execution_count": null,
   "metadata": {
    "id": "UiPotyXi25nY"
   },
   "outputs": [],
   "source": []
  },
  {
   "cell_type": "code",
   "execution_count": null,
   "metadata": {
    "id": "cezZl1yT25hw"
   },
   "outputs": [],
   "source": []
  },
  {
   "cell_type": "code",
   "execution_count": null,
   "metadata": {
    "id": "TSbe4yXP25cL"
   },
   "outputs": [],
   "source": []
  },
  {
   "cell_type": "code",
   "execution_count": null,
   "metadata": {
    "id": "PZhldtfB25WV"
   },
   "outputs": [],
   "source": []
  },
  {
   "cell_type": "code",
   "execution_count": null,
   "metadata": {
    "id": "Z04K_jfP25Qb"
   },
   "outputs": [],
   "source": []
  },
  {
   "cell_type": "code",
   "execution_count": null,
   "metadata": {
    "id": "pG2pqJdx25KU"
   },
   "outputs": [],
   "source": []
  },
  {
   "cell_type": "code",
   "execution_count": null,
   "metadata": {
    "id": "DDlkzEz_25D_"
   },
   "outputs": [],
   "source": []
  },
  {
   "cell_type": "code",
   "execution_count": null,
   "metadata": {
    "id": "QF1qQy9H24-5"
   },
   "outputs": [],
   "source": []
  },
  {
   "cell_type": "code",
   "execution_count": null,
   "metadata": {
    "id": "UhQ-yQ6P245v"
   },
   "outputs": [],
   "source": []
  },
  {
   "cell_type": "code",
   "execution_count": null,
   "metadata": {
    "id": "45CItSy2240Q"
   },
   "outputs": [],
   "source": []
  },
  {
   "cell_type": "code",
   "execution_count": null,
   "metadata": {
    "id": "tH9X_nY224YX"
   },
   "outputs": [],
   "source": []
  },
  {
   "cell_type": "code",
   "execution_count": null,
   "metadata": {
    "id": "icHEJ7Wl24TD"
   },
   "outputs": [],
   "source": []
  },
  {
   "cell_type": "code",
   "execution_count": null,
   "metadata": {
    "id": "tjpSP6gQ24NJ"
   },
   "outputs": [],
   "source": []
  },
  {
   "cell_type": "code",
   "execution_count": null,
   "metadata": {
    "id": "jIHKkSjb24Ch"
   },
   "outputs": [],
   "source": []
  },
  {
   "cell_type": "code",
   "execution_count": null,
   "metadata": {
    "id": "wl08dw2v238w"
   },
   "outputs": [],
   "source": []
  },
  {
   "cell_type": "code",
   "execution_count": null,
   "metadata": {
    "id": "pZrL174_233G"
   },
   "outputs": [],
   "source": []
  },
  {
   "cell_type": "markdown",
   "metadata": {
    "id": "JgZ_vQoblywM"
   },
   "source": [
    "# Building Deep Neural Network over the bert pooled outputs"
   ]
  },
  {
   "cell_type": "code",
   "execution_count": null,
   "metadata": {
    "colab": {
     "base_uri": "https://localhost:8080/",
     "height": 487
    },
    "id": "p1CGFnDFhEXk",
    "outputId": "fb261ebb-81d2-45c2-d314-c8ea32736999"
   },
   "outputs": [
    {
     "name": "stdout",
     "output_type": "stream",
     "text": [
      "Model: \"functional_3\"\n",
      "_________________________________________________________________\n",
      "Layer (type)                 Output Shape              Param #   \n",
      "=================================================================\n",
      "input_1 (InputLayer)         [(None, 768)]             0         \n",
      "_________________________________________________________________\n",
      "dense (Dense)                (None, 512)               393728    \n",
      "_________________________________________________________________\n",
      "dense_1 (Dense)              (None, 256)               131328    \n",
      "_________________________________________________________________\n",
      "dropout (Dropout)            (None, 256)               0         \n",
      "_________________________________________________________________\n",
      "dense_2 (Dense)              (None, 128)               32896     \n",
      "_________________________________________________________________\n",
      "dense_3 (Dense)              (None, 128)               16512     \n",
      "_________________________________________________________________\n",
      "batch_normalization (BatchNo (None, 128)               512       \n",
      "_________________________________________________________________\n",
      "dropout_1 (Dropout)          (None, 128)               0         \n",
      "_________________________________________________________________\n",
      "dense_4 (Dense)              (None, 64)                8256      \n",
      "_________________________________________________________________\n",
      "dense_5 (Dense)              (None, 2)                 130       \n",
      "=================================================================\n",
      "Total params: 583,362\n",
      "Trainable params: 583,106\n",
      "Non-trainable params: 256\n",
      "_________________________________________________________________\n"
     ]
    }
   ],
   "source": [
    "##create an NN and \n",
    "input_layer = Input(shape=(768,))\n",
    "layer_1 = Dense(512, activation='relu', kernel_initializer=tf.keras.initializers.HeUniform(30))(input_layer)\n",
    "layer_2 = Dense(256, activation='relu', kernel_initializer=tf.keras.initializers.HeUniform(30))(layer_1)\n",
    "drop = Dropout(0.6)(layer_2)\n",
    "layer_3 = Dense(128, activation='relu', kernel_initializer=tf.keras.initializers.HeUniform(30))(drop)\n",
    "layer_4 = Dense(128, activation='relu', kernel_initializer=tf.keras.initializers.HeUniform(30))(layer_3)\n",
    "batchnorm = BatchNormalization()(layer_4)\n",
    "drop = Dropout(0.6)(batchnorm)\n",
    "layer_5 = Dense(64, activation='relu', kernel_initializer=tf.keras.initializers.HeUniform(30))(drop)\n",
    "output = Dense(2,activation='softmax',kernel_initializer=tf.keras.initializers.HeUniform(30))(layer_5) \n",
    "\n",
    "model = Model(inputs=input_layer,outputs=output)\n",
    "model.summary()"
   ]
  },
  {
   "cell_type": "code",
   "execution_count": null,
   "metadata": {
    "colab": {
     "base_uri": "https://localhost:8080/",
     "height": 50
    },
    "id": "u_FVz44ig1ZW",
    "outputId": "7352f1ff-4b87-45b2-ef89-0787ff1d84ff"
   },
   "outputs": [
    {
     "name": "stdout",
     "output_type": "stream",
     "text": [
      "(80000, 2)\n",
      "(20000, 2)\n"
     ]
    }
   ],
   "source": [
    "from keras.callbacks import Callback, ModelCheckpoint\n",
    "from keras.utils import to_categorical\n",
    "\n",
    "y_tr = to_categorical(y_train)\n",
    "y_te = to_categorical(y_test)\n",
    "\n",
    "\n",
    "\n",
    "print(y_tr.shape)\n",
    "print(y_te.shape)"
   ]
  },
  {
   "cell_type": "code",
   "execution_count": null,
   "metadata": {
    "id": "_agSGlsfg1k7"
   },
   "outputs": [],
   "source": [
    "model.compile(loss='binary_crossentropy', optimizer=tf.keras.optimizers.Adam(), metrics=[tf.keras.metrics.AUC()])\n",
    "\n",
    "logdir = os.path.join(\"/content/gdrive/My Drive/bert/logs\", datetime.datetime.now().strftime(\"%Y%m%d-%H%M%S\"))\n",
    "tensorboard_callback = tf.keras.callbacks.TensorBoard(logdir, histogram_freq=1)\n",
    "\n",
    "\n",
    "\n",
    "call = [tensorboard_callback]\n"
   ]
  },
  {
   "cell_type": "code",
   "execution_count": null,
   "metadata": {
    "colab": {
     "base_uri": "https://localhost:8080/",
     "height": 1000
    },
    "id": "4YJoNz_Eg1oT",
    "outputId": "5e58fa2b-5fc1-499a-a924-df93a68c4837"
   },
   "outputs": [
    {
     "name": "stdout",
     "output_type": "stream",
     "text": [
      "Epoch 1/40\n",
      "  1/313 [..............................] - ETA: 0s - loss: 0.5854 - auc: 0.8991WARNING:tensorflow:From /usr/local/lib/python3.6/dist-packages/tensorflow/python/ops/summary_ops_v2.py:1277: stop (from tensorflow.python.eager.profiler) is deprecated and will be removed after 2020-07-01.\n",
      "Instructions for updating:\n",
      "use `tf.profiler.experimental.stop` instead.\n"
     ]
    },
    {
     "name": "stderr",
     "output_type": "stream",
     "text": [
      "WARNING:tensorflow:From /usr/local/lib/python3.6/dist-packages/tensorflow/python/ops/summary_ops_v2.py:1277: stop (from tensorflow.python.eager.profiler) is deprecated and will be removed after 2020-07-01.\n",
      "Instructions for updating:\n",
      "use `tf.profiler.experimental.stop` instead.\n"
     ]
    },
    {
     "name": "stdout",
     "output_type": "stream",
     "text": [
      "\b\b\b\b\b\b\b\b\b\b\b\b\b\b\b\b\b\b\b\b\b\b\b\b\b\b\b\b\b\b\b\b\b\b\b\b\b\b\b\b\b\b\b\b\b\b\b\b\b\b\b\b\b\b\b\b\b\b\b\b\b\b\b\b\b\b\b\b\b\b\b\b\b\b\b\b\b\b\b\r",
      "  2/313 [..............................] - ETA: 15s - loss: 0.6395 - auc: 0.8875WARNING:tensorflow:Callbacks method `on_train_batch_end` is slow compared to the batch time (batch time: 0.0106s vs `on_train_batch_end` time: 0.0901s). Check your callbacks.\n"
     ]
    },
    {
     "name": "stderr",
     "output_type": "stream",
     "text": [
      "WARNING:tensorflow:Callbacks method `on_train_batch_end` is slow compared to the batch time (batch time: 0.0106s vs `on_train_batch_end` time: 0.0901s). Check your callbacks.\n"
     ]
    },
    {
     "name": "stdout",
     "output_type": "stream",
     "text": [
      "313/313 [==============================] - 2s 7ms/step - loss: 0.4470 - auc: 0.8716 - val_loss: 0.4465 - val_auc: 0.8502\n",
      "Epoch 2/40\n",
      "313/313 [==============================] - 2s 6ms/step - loss: 0.3640 - auc: 0.9090 - val_loss: 1.7750 - val_auc: 0.2241\n",
      "Epoch 3/40\n",
      "313/313 [==============================] - 2s 6ms/step - loss: 0.2216 - auc: 0.9703 - val_loss: 0.7057 - val_auc: 0.5055\n",
      "Epoch 4/40\n",
      "313/313 [==============================] - 2s 6ms/step - loss: 0.2017 - auc: 0.9754 - val_loss: 0.3452 - val_auc: 0.9432\n",
      "Epoch 5/40\n",
      "313/313 [==============================] - 2s 6ms/step - loss: 0.1944 - auc: 0.9770 - val_loss: 0.3406 - val_auc: 0.9334\n",
      "Epoch 6/40\n",
      "313/313 [==============================] - 2s 6ms/step - loss: 0.1898 - auc: 0.9780 - val_loss: 0.6406 - val_auc: 0.7418\n",
      "Epoch 7/40\n",
      "313/313 [==============================] - 2s 6ms/step - loss: 0.1842 - auc: 0.9793 - val_loss: 0.4335 - val_auc: 0.8791\n",
      "Epoch 8/40\n",
      "313/313 [==============================] - 2s 6ms/step - loss: 0.1811 - auc: 0.9799 - val_loss: 0.2154 - val_auc: 0.9751\n",
      "Epoch 9/40\n",
      "313/313 [==============================] - 2s 6ms/step - loss: 0.1804 - auc: 0.9801 - val_loss: 0.1895 - val_auc: 0.9797\n",
      "Epoch 10/40\n",
      "313/313 [==============================] - 2s 6ms/step - loss: 0.1774 - auc: 0.9807 - val_loss: 0.3001 - val_auc: 0.9454\n",
      "Epoch 11/40\n",
      "313/313 [==============================] - 2s 6ms/step - loss: 0.1755 - auc: 0.9812 - val_loss: 0.2916 - val_auc: 0.9492\n",
      "Epoch 12/40\n",
      "313/313 [==============================] - 2s 6ms/step - loss: 0.1738 - auc: 0.9814 - val_loss: 0.2570 - val_auc: 0.9606\n",
      "Epoch 13/40\n",
      "313/313 [==============================] - 2s 6ms/step - loss: 0.1728 - auc: 0.9816 - val_loss: 0.7133 - val_auc: 0.6803\n",
      "Epoch 14/40\n",
      "313/313 [==============================] - 2s 6ms/step - loss: 0.1711 - auc: 0.9820 - val_loss: 0.3519 - val_auc: 0.9224\n",
      "Epoch 15/40\n",
      "313/313 [==============================] - 2s 6ms/step - loss: 0.1697 - auc: 0.9823 - val_loss: 0.2152 - val_auc: 0.9735\n",
      "Epoch 16/40\n",
      "313/313 [==============================] - 2s 6ms/step - loss: 0.1687 - auc: 0.9825 - val_loss: 0.1938 - val_auc: 0.9790\n",
      "Epoch 17/40\n",
      "313/313 [==============================] - 2s 6ms/step - loss: 0.1695 - auc: 0.9823 - val_loss: 0.4746 - val_auc: 0.8536\n",
      "Epoch 18/40\n",
      "313/313 [==============================] - 2s 6ms/step - loss: 0.1681 - auc: 0.9826 - val_loss: 0.2906 - val_auc: 0.9477\n",
      "Epoch 19/40\n",
      "313/313 [==============================] - 2s 6ms/step - loss: 0.1679 - auc: 0.9826 - val_loss: 0.2142 - val_auc: 0.9728\n",
      "Epoch 20/40\n",
      "313/313 [==============================] - 2s 6ms/step - loss: 0.1670 - auc: 0.9828 - val_loss: 0.2432 - val_auc: 0.9662\n",
      "Epoch 21/40\n",
      "313/313 [==============================] - 2s 6ms/step - loss: 0.1655 - auc: 0.9830 - val_loss: 0.1727 - val_auc: 0.9823\n",
      "Epoch 22/40\n",
      "313/313 [==============================] - 2s 6ms/step - loss: 0.1669 - auc: 0.9829 - val_loss: 0.6431 - val_auc: 0.7414\n",
      "Epoch 23/40\n",
      "313/313 [==============================] - 2s 7ms/step - loss: 0.1655 - auc: 0.9831 - val_loss: 0.1819 - val_auc: 0.9817\n",
      "Epoch 24/40\n",
      "313/313 [==============================] - 2s 7ms/step - loss: 0.1657 - auc: 0.9831 - val_loss: 0.3762 - val_auc: 0.9088\n",
      "Epoch 25/40\n",
      "313/313 [==============================] - 2s 7ms/step - loss: 0.1640 - auc: 0.9834 - val_loss: 0.3441 - val_auc: 0.9699\n",
      "Epoch 26/40\n",
      "313/313 [==============================] - 2s 6ms/step - loss: 0.1633 - auc: 0.9835 - val_loss: 0.1942 - val_auc: 0.9782\n",
      "Epoch 27/40\n",
      "313/313 [==============================] - 2s 7ms/step - loss: 0.1629 - auc: 0.9836 - val_loss: 0.4044 - val_auc: 0.8953\n",
      "Epoch 28/40\n",
      "313/313 [==============================] - 2s 6ms/step - loss: 0.1639 - auc: 0.9835 - val_loss: 0.1992 - val_auc: 0.9780\n",
      "Epoch 29/40\n",
      "313/313 [==============================] - 2s 6ms/step - loss: 0.1653 - auc: 0.9831 - val_loss: 0.2022 - val_auc: 0.9763\n",
      "Epoch 30/40\n",
      "313/313 [==============================] - 2s 6ms/step - loss: 0.1641 - auc: 0.9834 - val_loss: 0.3548 - val_auc: 0.9211\n",
      "Epoch 31/40\n",
      "313/313 [==============================] - 2s 6ms/step - loss: 0.1621 - auc: 0.9837 - val_loss: 0.8413 - val_auc: 0.6007\n",
      "Epoch 32/40\n",
      "313/313 [==============================] - 2s 6ms/step - loss: 0.1617 - auc: 0.9838 - val_loss: 0.2767 - val_auc: 0.9544\n",
      "Epoch 33/40\n",
      "313/313 [==============================] - 2s 6ms/step - loss: 0.1631 - auc: 0.9836 - val_loss: 0.5941 - val_auc: 0.7705\n",
      "Epoch 34/40\n",
      "313/313 [==============================] - 2s 6ms/step - loss: 0.1610 - auc: 0.9840 - val_loss: 0.1736 - val_auc: 0.9817\n",
      "Epoch 35/40\n",
      "313/313 [==============================] - 2s 6ms/step - loss: 0.1618 - auc: 0.9838 - val_loss: 0.2525 - val_auc: 0.9621\n",
      "Epoch 36/40\n",
      "313/313 [==============================] - 2s 6ms/step - loss: 0.1603 - auc: 0.9841 - val_loss: 0.2091 - val_auc: 0.9760\n",
      "Epoch 37/40\n",
      "313/313 [==============================] - 2s 6ms/step - loss: 0.1613 - auc: 0.9840 - val_loss: 0.1996 - val_auc: 0.9783\n",
      "Epoch 38/40\n",
      "313/313 [==============================] - 2s 6ms/step - loss: 0.1606 - auc: 0.9841 - val_loss: 0.2082 - val_auc: 0.9760\n",
      "Epoch 39/40\n",
      "313/313 [==============================] - 2s 6ms/step - loss: 0.1603 - auc: 0.9841 - val_loss: 0.2416 - val_auc: 0.9746\n",
      "Epoch 40/40\n",
      "313/313 [==============================] - 2s 6ms/step - loss: 0.1612 - auc: 0.9840 - val_loss: 0.9013 - val_auc: 0.5475\n"
     ]
    },
    {
     "data": {
      "text/plain": [
       "<tensorflow.python.keras.callbacks.History at 0x7f846fe19860>"
      ]
     },
     "execution_count": 29,
     "metadata": {
      "tags": []
     },
     "output_type": "execute_result"
    }
   ],
   "source": [
    "model.fit(X_train_pooled_output, y_tr, epochs= 40, batch_size=256, verbose=1,callbacks=call, validation_data=(X_test_pooled_output,y_te))"
   ]
  },
  {
   "cell_type": "code",
   "execution_count": null,
   "metadata": {
    "id": "TfstNrgAa239"
   },
   "outputs": [],
   "source": [
    "model.save('/content/gdrive/My Drive/bert/model.h5')"
   ]
  },
  {
   "cell_type": "markdown",
   "metadata": {
    "id": "YhoDzibDhs4_"
   },
   "source": [
    "# Review Analysing section"
   ]
  },
  {
   "cell_type": "code",
   "execution_count": null,
   "metadata": {
    "id": "j7P36JZYg1b6"
   },
   "outputs": [],
   "source": [
    " def analyze_review(review):\n",
    "\n",
    "  cleanr = re.compile('<.*?>')\n",
    "  sen = re.sub(cleanr, '', review)\n",
    "  sen = sen.lower()\n",
    "\n",
    "  max_len=55\n",
    "\n",
    "  x_tee=[]\n",
    "  msk_te=[]\n",
    "  tokens = tokenizer.tokenize(sen)\n",
    "\n",
    "  if len(tokens)>=(max_len-2):\n",
    "    tokens = tokens[:(max_len-2)]\n",
    "\n",
    "      \n",
    "  tokens = ['[CLS]',*tokens, '[SEP]']\n",
    "  length = len(tokens)\n",
    "  tok = [1]*length\n",
    "\n",
    "\n",
    "  if length <max_len:\n",
    "    tokens.extend(['[PAD]']*(max_len-length))\n",
    "    tok.extend([0]*(max_len-length))\n",
    "    \n",
    "  tokens = np.array(tokenizer.convert_tokens_to_ids(tokens))\n",
    "  x_tee.append(tokens)\n",
    "  msk_te.append(tok)\n",
    "\n",
    "\n",
    "  X_test_tokens = np.array(x_tee)\n",
    "\n",
    "  X_test_mask = np.array(msk_te)\n",
    "\n",
    "\n",
    "  X_test_segment = ([0]*max_len)\n",
    "  X_test_segment = np.array(X_test_segment)\n",
    "\n",
    "  X_test_segment = X_test_segment.reshape(1,-1)\n",
    "  return X_test_tokens, X_test_mask, X_test_segment\n"
   ]
  },
  {
   "cell_type": "code",
   "execution_count": null,
   "metadata": {
    "id": "KpoGtNDYg3cu"
   },
   "outputs": [],
   "source": [
    "def classify_review(X_test_tokens,X_test_mask,X_test_segment):\n",
    "  X_test = bert_model.predict([X_test_tokens,X_test_mask,X_test_segment])\n",
    "\n",
    "  y_hat = model.predict(X_test)\n",
    "\n",
    "  class_label = np.argmax(y_hat[0])\n",
    " \n",
    "  if class_label == 0:\n",
    "    print('the review is NEGATIVE')\n",
    "  else:\n",
    "    print('the review is POSITIVE')\n",
    "  print('the probability scores are: ', y_hat[0][0], y_hat[0][1])"
   ]
  },
  {
   "cell_type": "code",
   "execution_count": null,
   "metadata": {
    "colab": {
     "base_uri": "https://localhost:8080/",
     "height": 67
    },
    "id": "GIo17RrQg3ia",
    "outputId": "e03f3982-690d-4e58-a220-eb38641fd818"
   },
   "outputs": [
    {
     "name": "stdout",
     "output_type": "stream",
     "text": [
      "Enter the review: good job\n",
      "the review is POSITIVE\n",
      "the probability scores are:  0.17416328 0.8258367\n"
     ]
    }
   ],
   "source": [
    "review = input(\"Enter the review: \")\n",
    "\n",
    "x,y,z = analyze_review(review)\n",
    "\n",
    "classify_review(x,y,z)"
   ]
  },
  {
   "cell_type": "code",
   "execution_count": null,
   "metadata": {
    "id": "lcSK_OHJg3nu"
   },
   "outputs": [],
   "source": [
    "import pickle\n",
    "import tensorflow as tf\n",
    "from tensorflow.keras.models import Model\n",
    "from tensorflow.keras.layers import Input, Dense, Dropout, BatchNormalization\n",
    "import tensorflow_hub as hub\n",
    "import numpy as np\n",
    "from tensorflow import keras\n",
    "import re\n"
   ]
  },
  {
   "cell_type": "code",
   "execution_count": null,
   "metadata": {
    "colab": {
     "background_save": true
    },
    "id": "MUB9Lm0Jg3lQ"
   },
   "outputs": [],
   "source": [
    "input_layer = Input(shape=(768,))\n",
    "layer_1 = Dense(512, activation='relu', kernel_initializer=keras.initializers.HeUniform(30))(input_layer)\n",
    "layer_2 = Dense(256, activation='relu', kernel_initializer=keras.initializers.HeUniform(30))(layer_1)\n",
    "drop = Dropout(0.6)(layer_2)\n",
    "layer_3 = Dense(128, activation='relu', kernel_initializer=keras.initializers.HeUniform(30))(drop)\n",
    "layer_4 = Dense(128, activation='relu', kernel_initializer=keras.initializers.HeUniform(30))(layer_3)\n",
    "batchnorm = BatchNormalization()(layer_4)\n",
    "drop = Dropout(0.6)(batchnorm)\n",
    "layer_5 = Dense(64, activation='relu', kernel_initializer=keras.initializers.HeUniform(30))(drop)\n",
    "output = Dense(2,activation='softmax',kernel_initializer=keras.initializers.HeUniform(30))(layer_5) \n",
    "\n",
    "model = Model(inputs=input_layer,outputs=output)"
   ]
  },
  {
   "cell_type": "code",
   "execution_count": null,
   "metadata": {
    "id": "7jeKt6CYg3fi"
   },
   "outputs": [],
   "source": []
  },
  {
   "cell_type": "code",
   "execution_count": null,
   "metadata": {
    "id": "v86QqBl4g3aD"
   },
   "outputs": [],
   "source": []
  },
  {
   "cell_type": "code",
   "execution_count": null,
   "metadata": {
    "id": "hhUEtUCPiuO9"
   },
   "outputs": [],
   "source": []
  }
 ],
 "metadata": {
  "colab": {
   "collapsed_sections": [
    "JgZ_vQoblywM",
    "YhoDzibDhs4_"
   ],
   "name": "Bert_Simple_Project.ipynb",
   "provenance": []
  },
  "kernelspec": {
   "display_name": "Python 3",
   "language": "python",
   "name": "python3"
  },
  "language_info": {
   "codemirror_mode": {
    "name": "ipython",
    "version": 3
   },
   "file_extension": ".py",
   "mimetype": "text/x-python",
   "name": "python",
   "nbconvert_exporter": "python",
   "pygments_lexer": "ipython3",
   "version": "3.6.10"
  }
 },
 "nbformat": 4,
 "nbformat_minor": 1
}
